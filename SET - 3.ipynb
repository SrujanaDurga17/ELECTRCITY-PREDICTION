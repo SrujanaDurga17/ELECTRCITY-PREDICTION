{
 "cells": [
  {
   "cell_type": "code",
   "execution_count": 1,
   "id": "10903686",
   "metadata": {
    "scrolled": true
   },
   "outputs": [
    {
     "name": "stdout",
     "output_type": "stream",
     "text": [
      "Collecting xgboostNote: you may need to restart the kernel to use updated packages.\n"
     ]
    },
    {
     "name": "stderr",
     "output_type": "stream",
     "text": [
      "WARNING: Ignoring invalid distribution -atplotlib (c:\\users\\srujana\\programs\\lib\\site-packages)\n",
      "WARNING: Ignoring invalid distribution -atplotlib (c:\\users\\srujana\\programs\\lib\\site-packages)\n",
      "\n",
      "[notice] A new release of pip is available: 23.2.1 -> 23.3.1\n",
      "[notice] To update, run: python.exe -m pip install --upgrade pip\n"
     ]
    },
    {
     "name": "stdout",
     "output_type": "stream",
     "text": [
      "\n",
      "  Obtaining dependency information for xgboost from https://files.pythonhosted.org/packages/bc/43/242432efc3f60052a4a534dc4926b21e236ab4ec8d4920c593da3f65c65d/xgboost-2.0.2-py3-none-win_amd64.whl.metadata\n",
      "  Downloading xgboost-2.0.2-py3-none-win_amd64.whl.metadata (2.0 kB)\n",
      "Requirement already satisfied: numpy in c:\\users\\srujana\\programs\\lib\\site-packages (from xgboost) (1.24.3)\n",
      "Requirement already satisfied: scipy in c:\\users\\srujana\\programs\\lib\\site-packages (from xgboost) (1.9.1)\n",
      "Downloading xgboost-2.0.2-py3-none-win_amd64.whl (99.8 MB)\n",
      "   ---------------------------------------- 99.8/99.8 MB 2.4 MB/s eta 0:00:00\n",
      "Installing collected packages: xgboost\n",
      "Successfully installed xgboost-2.0.2\n"
     ]
    }
   ],
   "source": [
    "pip install xgboost"
   ]
  },
  {
   "cell_type": "code",
   "execution_count": 2,
   "id": "c3bc64c6",
   "metadata": {},
   "outputs": [],
   "source": [
    "# Common libraries\n",
    "import pandas as pd\n",
    "import numpy as np\n",
    "import matplotlib.pyplot as plt\n",
    "import seaborn as sns\n",
    "from math import sqrt\n",
    "\n",
    "# Preprocessing libraries\n",
    "from sklearn.preprocessing import StandardScaler\n",
    "from sklearn.model_selection import train_test_split\n",
    "\n",
    "# Importing Algorithims \n",
    "from sklearn.linear_model import LinearRegression\n",
    "from sklearn.linear_model import Ridge\n",
    "from sklearn.linear_model import Lasso\n",
    "from sklearn.linear_model import ElasticNet\n",
    "from sklearn.tree import DecisionTreeRegressor\n",
    "from sklearn.ensemble import RandomForestRegressor\n",
    "from xgboost import XGBRegressor\n",
    "import xgboost as xgb\n",
    "\n",
    "# Libraries for Hyper-parameter tining\n",
    "from sklearn.model_selection import ShuffleSplit , cross_val_score,cross_val_predict\n",
    "from sklearn.model_selection import GridSearchCV\n",
    "from sklearn.model_selection import RandomizedSearchCV\n",
    "\n",
    "# Libraries for Comparision\n",
    "from sklearn.metrics import make_scorer, mean_squared_error\n",
    "from sklearn.metrics import mean_absolute_error\n",
    "\n",
    "# For font and style\n",
    "%matplotlib inline \n",
    "plt.style.use('ggplot')\n",
    "pd.set_option('display.max_columns', None)\n",
    "pd.set_option('display.float_format','{:.6f}'.format)\n",
    "\n",
    "# For warnings\n",
    "import warnings \n",
    "warnings.filterwarnings('ignore')"
   ]
  },
  {
   "cell_type": "markdown",
   "id": "d34d913c",
   "metadata": {},
   "source": [
    "Importing the Data"
   ]
  },
  {
   "cell_type": "code",
   "execution_count": 3,
   "id": "b8d7169b",
   "metadata": {
    "scrolled": false
   },
   "outputs": [
    {
     "data": {
      "text/html": [
       "<div>\n",
       "<style scoped>\n",
       "    .dataframe tbody tr th:only-of-type {\n",
       "        vertical-align: middle;\n",
       "    }\n",
       "\n",
       "    .dataframe tbody tr th {\n",
       "        vertical-align: top;\n",
       "    }\n",
       "\n",
       "    .dataframe thead th {\n",
       "        text-align: right;\n",
       "    }\n",
       "</style>\n",
       "<table border=\"1\" class=\"dataframe\">\n",
       "  <thead>\n",
       "    <tr style=\"text-align: right;\">\n",
       "      <th></th>\n",
       "      <th>Data Year</th>\n",
       "      <th>ID</th>\n",
       "      <th>Property Name</th>\n",
       "      <th>Address</th>\n",
       "      <th>ZIP Code</th>\n",
       "      <th>Community Area</th>\n",
       "      <th>Primary Property Type</th>\n",
       "      <th>Gross Floor Area - Buildings (sq ft)</th>\n",
       "      <th>Year Built</th>\n",
       "      <th># of Buildings</th>\n",
       "      <th>ENERGY STAR Score</th>\n",
       "      <th>Electricity Use (kBtu)</th>\n",
       "      <th>Natural Gas Use (kBtu)</th>\n",
       "      <th>District Steam Use (kBtu)</th>\n",
       "      <th>District Chilled Water Use (kBtu)</th>\n",
       "      <th>All Other Fuel Use (kBtu)</th>\n",
       "      <th>Site EUI (kBtu/sq ft)</th>\n",
       "      <th>Source EUI (kBtu/sq ft)</th>\n",
       "      <th>Weather Normalized Site EUI (kBtu/sq ft)</th>\n",
       "      <th>Weather Normalized Source EUI (kBtu/sq ft)</th>\n",
       "      <th>Total GHG Emissions (Metric Tons CO2e)</th>\n",
       "      <th>GHG Intensity (kg CO2e/sq ft)</th>\n",
       "      <th>Latitude</th>\n",
       "      <th>Longitude</th>\n",
       "      <th>Location</th>\n",
       "    </tr>\n",
       "  </thead>\n",
       "  <tbody>\n",
       "    <tr>\n",
       "      <th>0</th>\n",
       "      <td>2014</td>\n",
       "      <td>157767</td>\n",
       "      <td>Roosevelt Hi-CPS</td>\n",
       "      <td>3436 W WILSON AVE</td>\n",
       "      <td>60625</td>\n",
       "      <td>ALBANY PARK</td>\n",
       "      <td>K-12 School</td>\n",
       "      <td>319900.000000</td>\n",
       "      <td>1927.000000</td>\n",
       "      <td>1</td>\n",
       "      <td>71.000000</td>\n",
       "      <td>6889272.000000</td>\n",
       "      <td>18731796.000000</td>\n",
       "      <td>NaN</td>\n",
       "      <td>NaN</td>\n",
       "      <td>NaN</td>\n",
       "      <td>80.000000</td>\n",
       "      <td>129.000000</td>\n",
       "      <td>75.000000</td>\n",
       "      <td>122.000000</td>\n",
       "      <td>2379.000000</td>\n",
       "      <td>7.440000</td>\n",
       "      <td>41.965013</td>\n",
       "      <td>-87.714513</td>\n",
       "      <td>(41.96501325, -87.71451268)</td>\n",
       "    </tr>\n",
       "    <tr>\n",
       "      <th>1</th>\n",
       "      <td>2014</td>\n",
       "      <td>100256</td>\n",
       "      <td>Curie Metrop-CPS</td>\n",
       "      <td>4975 S Archer</td>\n",
       "      <td>60632</td>\n",
       "      <td>ARCHER HEIGHTS</td>\n",
       "      <td>K-12 School</td>\n",
       "      <td>447330.000000</td>\n",
       "      <td>1990.000000</td>\n",
       "      <td>1</td>\n",
       "      <td>19.000000</td>\n",
       "      <td>35792767.000000</td>\n",
       "      <td>7180231.000000</td>\n",
       "      <td>NaN</td>\n",
       "      <td>NaN</td>\n",
       "      <td>NaN</td>\n",
       "      <td>96.000000</td>\n",
       "      <td>268.000000</td>\n",
       "      <td>93.000000</td>\n",
       "      <td>261.000000</td>\n",
       "      <td>7573.000000</td>\n",
       "      <td>16.930000</td>\n",
       "      <td>41.802759</td>\n",
       "      <td>-87.722671</td>\n",
       "      <td>(41.802759, -87.722671)</td>\n",
       "    </tr>\n",
       "    <tr>\n",
       "      <th>2</th>\n",
       "      <td>2014</td>\n",
       "      <td>101551</td>\n",
       "      <td>METROPOLITIAN PIER AND EXPOSITION AUTHORITY</td>\n",
       "      <td>301 Cermak Road</td>\n",
       "      <td>60616</td>\n",
       "      <td>ARMOUR SQUARE</td>\n",
       "      <td>Convention Center</td>\n",
       "      <td>9245333.000000</td>\n",
       "      <td>1971.000000</td>\n",
       "      <td>8</td>\n",
       "      <td>NaN</td>\n",
       "      <td>485542954.000000</td>\n",
       "      <td>344178866.000000</td>\n",
       "      <td>NaN</td>\n",
       "      <td>NaN</td>\n",
       "      <td>NaN</td>\n",
       "      <td>90.000000</td>\n",
       "      <td>204.000000</td>\n",
       "      <td>86.000000</td>\n",
       "      <td>200.000000</td>\n",
       "      <td>115833.000000</td>\n",
       "      <td>12.530000</td>\n",
       "      <td>41.852840</td>\n",
       "      <td>-87.634931</td>\n",
       "      <td>(41.85284, -87.634931)</td>\n",
       "    </tr>\n",
       "    <tr>\n",
       "      <th>3</th>\n",
       "      <td>2014</td>\n",
       "      <td>100396</td>\n",
       "      <td>St. Rita of Cascia High School</td>\n",
       "      <td>7740 South Western Avenue</td>\n",
       "      <td>60620</td>\n",
       "      <td>ASHBURN</td>\n",
       "      <td>K-12 School</td>\n",
       "      <td>250000.000000</td>\n",
       "      <td>1960.000000</td>\n",
       "      <td>1</td>\n",
       "      <td>68.000000</td>\n",
       "      <td>6027551.000000</td>\n",
       "      <td>15042857.000000</td>\n",
       "      <td>NaN</td>\n",
       "      <td>NaN</td>\n",
       "      <td>NaN</td>\n",
       "      <td>84.000000</td>\n",
       "      <td>139.000000</td>\n",
       "      <td>80.000000</td>\n",
       "      <td>135.000000</td>\n",
       "      <td>2010.000000</td>\n",
       "      <td>8.040000</td>\n",
       "      <td>41.752003</td>\n",
       "      <td>-87.684637</td>\n",
       "      <td>(41.7520028, -87.68463714)</td>\n",
       "    </tr>\n",
       "    <tr>\n",
       "      <th>4</th>\n",
       "      <td>2014</td>\n",
       "      <td>250052</td>\n",
       "      <td>Steinmetz Ac-CPS</td>\n",
       "      <td>3030 N MOBILE AVE</td>\n",
       "      <td>60634</td>\n",
       "      <td>BELMONT CRAGIN</td>\n",
       "      <td>K-12 School</td>\n",
       "      <td>323400.000000</td>\n",
       "      <td>1934.000000</td>\n",
       "      <td>1</td>\n",
       "      <td>66.000000</td>\n",
       "      <td>8184634.000000</td>\n",
       "      <td>19187703.000000</td>\n",
       "      <td>NaN</td>\n",
       "      <td>NaN</td>\n",
       "      <td>NaN</td>\n",
       "      <td>85.000000</td>\n",
       "      <td>142.000000</td>\n",
       "      <td>80.000000</td>\n",
       "      <td>136.000000</td>\n",
       "      <td>2664.000000</td>\n",
       "      <td>8.240000</td>\n",
       "      <td>41.935603</td>\n",
       "      <td>-87.784340</td>\n",
       "      <td>(41.93560335, -87.7843396)</td>\n",
       "    </tr>\n",
       "  </tbody>\n",
       "</table>\n",
       "</div>"
      ],
      "text/plain": [
       "   Data Year      ID                                Property Name  \\\n",
       "0       2014  157767                             Roosevelt Hi-CPS   \n",
       "1       2014  100256                             Curie Metrop-CPS   \n",
       "2       2014  101551  METROPOLITIAN PIER AND EXPOSITION AUTHORITY   \n",
       "3       2014  100396               St. Rita of Cascia High School   \n",
       "4       2014  250052                             Steinmetz Ac-CPS   \n",
       "\n",
       "                     Address ZIP Code  Community Area Primary Property Type  \\\n",
       "0          3436 W WILSON AVE    60625     ALBANY PARK           K-12 School   \n",
       "1              4975 S Archer    60632  ARCHER HEIGHTS           K-12 School   \n",
       "2            301 Cermak Road    60616   ARMOUR SQUARE     Convention Center   \n",
       "3  7740 South Western Avenue    60620         ASHBURN           K-12 School   \n",
       "4          3030 N MOBILE AVE    60634  BELMONT CRAGIN           K-12 School   \n",
       "\n",
       "   Gross Floor Area - Buildings (sq ft)  Year Built  # of Buildings  \\\n",
       "0                         319900.000000 1927.000000               1   \n",
       "1                         447330.000000 1990.000000               1   \n",
       "2                        9245333.000000 1971.000000               8   \n",
       "3                         250000.000000 1960.000000               1   \n",
       "4                         323400.000000 1934.000000               1   \n",
       "\n",
       "   ENERGY STAR Score  Electricity Use (kBtu)  Natural Gas Use (kBtu)  \\\n",
       "0          71.000000          6889272.000000         18731796.000000   \n",
       "1          19.000000         35792767.000000          7180231.000000   \n",
       "2                NaN        485542954.000000        344178866.000000   \n",
       "3          68.000000          6027551.000000         15042857.000000   \n",
       "4          66.000000          8184634.000000         19187703.000000   \n",
       "\n",
       "   District Steam Use (kBtu)  District Chilled Water Use (kBtu)  \\\n",
       "0                        NaN                                NaN   \n",
       "1                        NaN                                NaN   \n",
       "2                        NaN                                NaN   \n",
       "3                        NaN                                NaN   \n",
       "4                        NaN                                NaN   \n",
       "\n",
       "   All Other Fuel Use (kBtu)  Site EUI (kBtu/sq ft)  Source EUI (kBtu/sq ft)  \\\n",
       "0                        NaN              80.000000               129.000000   \n",
       "1                        NaN              96.000000               268.000000   \n",
       "2                        NaN              90.000000               204.000000   \n",
       "3                        NaN              84.000000               139.000000   \n",
       "4                        NaN              85.000000               142.000000   \n",
       "\n",
       "   Weather Normalized Site EUI (kBtu/sq ft)  \\\n",
       "0                                 75.000000   \n",
       "1                                 93.000000   \n",
       "2                                 86.000000   \n",
       "3                                 80.000000   \n",
       "4                                 80.000000   \n",
       "\n",
       "   Weather Normalized Source EUI (kBtu/sq ft)  \\\n",
       "0                                  122.000000   \n",
       "1                                  261.000000   \n",
       "2                                  200.000000   \n",
       "3                                  135.000000   \n",
       "4                                  136.000000   \n",
       "\n",
       "   Total GHG Emissions (Metric Tons CO2e)  GHG Intensity (kg CO2e/sq ft)  \\\n",
       "0                             2379.000000                       7.440000   \n",
       "1                             7573.000000                      16.930000   \n",
       "2                           115833.000000                      12.530000   \n",
       "3                             2010.000000                       8.040000   \n",
       "4                             2664.000000                       8.240000   \n",
       "\n",
       "   Latitude  Longitude                     Location  \n",
       "0 41.965013 -87.714513  (41.96501325, -87.71451268)  \n",
       "1 41.802759 -87.722671      (41.802759, -87.722671)  \n",
       "2 41.852840 -87.634931       (41.85284, -87.634931)  \n",
       "3 41.752003 -87.684637   (41.7520028, -87.68463714)  \n",
       "4 41.935603 -87.784340   (41.93560335, -87.7843396)  "
      ]
     },
     "execution_count": 3,
     "metadata": {},
     "output_type": "execute_result"
    }
   ],
   "source": [
    "df = pd.read_csv(\"C://Users//KAMDEO SINGH//Downloads//chicago-energy-benchmarking-1.csv\")\n",
    "df.head()"
   ]
  },
  {
   "cell_type": "markdown",
   "id": "be8a3795",
   "metadata": {},
   "source": [
    "# DATA PREPROCESSING"
   ]
  },
  {
   "cell_type": "code",
   "execution_count": 4,
   "id": "5910d79b",
   "metadata": {
    "scrolled": true
   },
   "outputs": [
    {
     "data": {
      "text/plain": [
       "Index(['Data Year', 'ID', 'Property Name', 'Address', 'ZIP Code',\n",
       "       'Community Area', 'Primary Property Type',\n",
       "       'Gross Floor Area - Buildings (sq ft)', 'Year Built', '# of Buildings',\n",
       "       'ENERGY STAR Score', 'Electricity Use (kBtu)', 'Natural Gas Use (kBtu)',\n",
       "       'District Steam Use (kBtu)', 'District Chilled Water Use (kBtu)',\n",
       "       'All Other Fuel Use (kBtu)', 'Site EUI (kBtu/sq ft)',\n",
       "       'Source EUI (kBtu/sq ft)', 'Weather Normalized Site EUI (kBtu/sq ft)',\n",
       "       'Weather Normalized Source EUI (kBtu/sq ft)',\n",
       "       'Total GHG Emissions (Metric Tons CO2e)',\n",
       "       'GHG Intensity (kg CO2e/sq ft)', 'Latitude', 'Longitude', 'Location'],\n",
       "      dtype='object')"
      ]
     },
     "execution_count": 4,
     "metadata": {},
     "output_type": "execute_result"
    }
   ],
   "source": [
    "df.columns"
   ]
  },
  {
   "cell_type": "code",
   "execution_count": 5,
   "id": "ac63f76b",
   "metadata": {},
   "outputs": [
    {
     "data": {
      "text/html": [
       "<div>\n",
       "<style scoped>\n",
       "    .dataframe tbody tr th:only-of-type {\n",
       "        vertical-align: middle;\n",
       "    }\n",
       "\n",
       "    .dataframe tbody tr th {\n",
       "        vertical-align: top;\n",
       "    }\n",
       "\n",
       "    .dataframe thead th {\n",
       "        text-align: right;\n",
       "    }\n",
       "</style>\n",
       "<table border=\"1\" class=\"dataframe\">\n",
       "  <thead>\n",
       "    <tr style=\"text-align: right;\">\n",
       "      <th></th>\n",
       "      <th>Electricity Use (kBtu)</th>\n",
       "      <th>Gross Floor Area - Buildings (sq ft)</th>\n",
       "      <th>Weather Normalized Source EUI (kBtu/sq ft)</th>\n",
       "      <th># of Buildings</th>\n",
       "    </tr>\n",
       "  </thead>\n",
       "  <tbody>\n",
       "    <tr>\n",
       "      <th>0</th>\n",
       "      <td>6889272.000000</td>\n",
       "      <td>319900.000000</td>\n",
       "      <td>122.000000</td>\n",
       "      <td>1</td>\n",
       "    </tr>\n",
       "    <tr>\n",
       "      <th>1</th>\n",
       "      <td>35792767.000000</td>\n",
       "      <td>447330.000000</td>\n",
       "      <td>261.000000</td>\n",
       "      <td>1</td>\n",
       "    </tr>\n",
       "    <tr>\n",
       "      <th>2</th>\n",
       "      <td>485542954.000000</td>\n",
       "      <td>9245333.000000</td>\n",
       "      <td>200.000000</td>\n",
       "      <td>8</td>\n",
       "    </tr>\n",
       "    <tr>\n",
       "      <th>3</th>\n",
       "      <td>6027551.000000</td>\n",
       "      <td>250000.000000</td>\n",
       "      <td>135.000000</td>\n",
       "      <td>1</td>\n",
       "    </tr>\n",
       "    <tr>\n",
       "      <th>4</th>\n",
       "      <td>8184634.000000</td>\n",
       "      <td>323400.000000</td>\n",
       "      <td>136.000000</td>\n",
       "      <td>1</td>\n",
       "    </tr>\n",
       "  </tbody>\n",
       "</table>\n",
       "</div>"
      ],
      "text/plain": [
       "   Electricity Use (kBtu)  Gross Floor Area - Buildings (sq ft)  \\\n",
       "0          6889272.000000                         319900.000000   \n",
       "1         35792767.000000                         447330.000000   \n",
       "2        485542954.000000                        9245333.000000   \n",
       "3          6027551.000000                         250000.000000   \n",
       "4          8184634.000000                         323400.000000   \n",
       "\n",
       "   Weather Normalized Source EUI (kBtu/sq ft)  # of Buildings  \n",
       "0                                  122.000000               1  \n",
       "1                                  261.000000               1  \n",
       "2                                  200.000000               8  \n",
       "3                                  135.000000               1  \n",
       "4                                  136.000000               1  "
      ]
     },
     "execution_count": 5,
     "metadata": {},
     "output_type": "execute_result"
    }
   ],
   "source": [
    "df = df[['Electricity Use (kBtu)','Gross Floor Area - Buildings (sq ft)',\n",
    "         'Weather Normalized Source EUI (kBtu/sq ft)','# of Buildings']]\n",
    "df.head()"
   ]
  },
  {
   "cell_type": "code",
   "execution_count": 6,
   "id": "68d28472",
   "metadata": {},
   "outputs": [
    {
     "data": {
      "text/html": [
       "<div>\n",
       "<style scoped>\n",
       "    .dataframe tbody tr th:only-of-type {\n",
       "        vertical-align: middle;\n",
       "    }\n",
       "\n",
       "    .dataframe tbody tr th {\n",
       "        vertical-align: top;\n",
       "    }\n",
       "\n",
       "    .dataframe thead th {\n",
       "        text-align: right;\n",
       "    }\n",
       "</style>\n",
       "<table border=\"1\" class=\"dataframe\">\n",
       "  <thead>\n",
       "    <tr style=\"text-align: right;\">\n",
       "      <th></th>\n",
       "      <th>Electricity_used</th>\n",
       "      <th>Sq_ft</th>\n",
       "      <th>Weather</th>\n",
       "      <th>Buildings</th>\n",
       "    </tr>\n",
       "  </thead>\n",
       "  <tbody>\n",
       "    <tr>\n",
       "      <th>0</th>\n",
       "      <td>6889272.000000</td>\n",
       "      <td>319900.000000</td>\n",
       "      <td>122.000000</td>\n",
       "      <td>1</td>\n",
       "    </tr>\n",
       "    <tr>\n",
       "      <th>1</th>\n",
       "      <td>35792767.000000</td>\n",
       "      <td>447330.000000</td>\n",
       "      <td>261.000000</td>\n",
       "      <td>1</td>\n",
       "    </tr>\n",
       "    <tr>\n",
       "      <th>2</th>\n",
       "      <td>485542954.000000</td>\n",
       "      <td>9245333.000000</td>\n",
       "      <td>200.000000</td>\n",
       "      <td>8</td>\n",
       "    </tr>\n",
       "    <tr>\n",
       "      <th>3</th>\n",
       "      <td>6027551.000000</td>\n",
       "      <td>250000.000000</td>\n",
       "      <td>135.000000</td>\n",
       "      <td>1</td>\n",
       "    </tr>\n",
       "    <tr>\n",
       "      <th>4</th>\n",
       "      <td>8184634.000000</td>\n",
       "      <td>323400.000000</td>\n",
       "      <td>136.000000</td>\n",
       "      <td>1</td>\n",
       "    </tr>\n",
       "  </tbody>\n",
       "</table>\n",
       "</div>"
      ],
      "text/plain": [
       "   Electricity_used          Sq_ft    Weather  Buildings\n",
       "0    6889272.000000  319900.000000 122.000000          1\n",
       "1   35792767.000000  447330.000000 261.000000          1\n",
       "2  485542954.000000 9245333.000000 200.000000          8\n",
       "3    6027551.000000  250000.000000 135.000000          1\n",
       "4    8184634.000000  323400.000000 136.000000          1"
      ]
     },
     "execution_count": 6,
     "metadata": {},
     "output_type": "execute_result"
    }
   ],
   "source": [
    "df.columns = ['Electricity_used','Sq_ft','Weather','Buildings']\n",
    "df.head()"
   ]
  },
  {
   "cell_type": "code",
   "execution_count": 7,
   "id": "47ee294f",
   "metadata": {},
   "outputs": [
    {
     "data": {
      "text/html": [
       "<div>\n",
       "<style scoped>\n",
       "    .dataframe tbody tr th:only-of-type {\n",
       "        vertical-align: middle;\n",
       "    }\n",
       "\n",
       "    .dataframe tbody tr th {\n",
       "        vertical-align: top;\n",
       "    }\n",
       "\n",
       "    .dataframe thead th {\n",
       "        text-align: right;\n",
       "    }\n",
       "</style>\n",
       "<table border=\"1\" class=\"dataframe\">\n",
       "  <thead>\n",
       "    <tr style=\"text-align: right;\">\n",
       "      <th></th>\n",
       "      <th>Sq_ft</th>\n",
       "      <th>Weather</th>\n",
       "      <th>Buildings</th>\n",
       "      <th>Electricity_used</th>\n",
       "    </tr>\n",
       "  </thead>\n",
       "  <tbody>\n",
       "    <tr>\n",
       "      <th>0</th>\n",
       "      <td>319900.000000</td>\n",
       "      <td>122.000000</td>\n",
       "      <td>1</td>\n",
       "      <td>6889272.000000</td>\n",
       "    </tr>\n",
       "    <tr>\n",
       "      <th>1</th>\n",
       "      <td>447330.000000</td>\n",
       "      <td>261.000000</td>\n",
       "      <td>1</td>\n",
       "      <td>35792767.000000</td>\n",
       "    </tr>\n",
       "    <tr>\n",
       "      <th>2</th>\n",
       "      <td>9245333.000000</td>\n",
       "      <td>200.000000</td>\n",
       "      <td>8</td>\n",
       "      <td>485542954.000000</td>\n",
       "    </tr>\n",
       "    <tr>\n",
       "      <th>3</th>\n",
       "      <td>250000.000000</td>\n",
       "      <td>135.000000</td>\n",
       "      <td>1</td>\n",
       "      <td>6027551.000000</td>\n",
       "    </tr>\n",
       "    <tr>\n",
       "      <th>4</th>\n",
       "      <td>323400.000000</td>\n",
       "      <td>136.000000</td>\n",
       "      <td>1</td>\n",
       "      <td>8184634.000000</td>\n",
       "    </tr>\n",
       "  </tbody>\n",
       "</table>\n",
       "</div>"
      ],
      "text/plain": [
       "           Sq_ft    Weather  Buildings  Electricity_used\n",
       "0  319900.000000 122.000000          1    6889272.000000\n",
       "1  447330.000000 261.000000          1   35792767.000000\n",
       "2 9245333.000000 200.000000          8  485542954.000000\n",
       "3  250000.000000 135.000000          1    6027551.000000\n",
       "4  323400.000000 136.000000          1    8184634.000000"
      ]
     },
     "execution_count": 7,
     "metadata": {},
     "output_type": "execute_result"
    }
   ],
   "source": [
    "df = df[['Sq_ft','Weather','Buildings','Electricity_used']]\n",
    "df.head()"
   ]
  },
  {
   "cell_type": "code",
   "execution_count": 8,
   "id": "e9b9a9cb",
   "metadata": {},
   "outputs": [
    {
     "data": {
      "text/plain": [
       "(4481, 4)"
      ]
     },
     "execution_count": 8,
     "metadata": {},
     "output_type": "execute_result"
    }
   ],
   "source": [
    "df.shape"
   ]
  },
  {
   "cell_type": "code",
   "execution_count": 9,
   "id": "3f8d0796",
   "metadata": {},
   "outputs": [
    {
     "data": {
      "text/plain": [
       "Sq_ft                0\n",
       "Weather             89\n",
       "Buildings            0\n",
       "Electricity_used    26\n",
       "dtype: int64"
      ]
     },
     "execution_count": 9,
     "metadata": {},
     "output_type": "execute_result"
    }
   ],
   "source": [
    "df.isna().sum()"
   ]
  },
  {
   "cell_type": "code",
   "execution_count": 10,
   "id": "c7fd71e5",
   "metadata": {},
   "outputs": [],
   "source": [
    "df.dropna(subset=['Electricity_used'],inplace=True)"
   ]
  },
  {
   "cell_type": "code",
   "execution_count": 11,
   "id": "c3030fd0",
   "metadata": {},
   "outputs": [],
   "source": [
    "mean_weather = df['Weather'].mean()"
   ]
  },
  {
   "cell_type": "code",
   "execution_count": 12,
   "id": "3255d80e",
   "metadata": {},
   "outputs": [
    {
     "data": {
      "text/plain": [
       "202.83"
      ]
     },
     "execution_count": 12,
     "metadata": {},
     "output_type": "execute_result"
    }
   ],
   "source": [
    "round(mean_weather,2)"
   ]
  },
  {
   "cell_type": "code",
   "execution_count": 13,
   "id": "7a07b950",
   "metadata": {},
   "outputs": [],
   "source": [
    "df['Weather'] = df['Weather'].fillna(mean_weather)"
   ]
  },
  {
   "cell_type": "code",
   "execution_count": 14,
   "id": "4f874857",
   "metadata": {},
   "outputs": [
    {
     "data": {
      "text/plain": [
       "Sq_ft               0\n",
       "Weather             0\n",
       "Buildings           0\n",
       "Electricity_used    0\n",
       "dtype: int64"
      ]
     },
     "execution_count": 14,
     "metadata": {},
     "output_type": "execute_result"
    }
   ],
   "source": [
    "df.isna().sum()"
   ]
  },
  {
   "cell_type": "code",
   "execution_count": 15,
   "id": "bc1e771e",
   "metadata": {},
   "outputs": [
    {
     "data": {
      "text/plain": [
       "(4455, 4)"
      ]
     },
     "execution_count": 15,
     "metadata": {},
     "output_type": "execute_result"
    }
   ],
   "source": [
    "df.shape"
   ]
  },
  {
   "cell_type": "code",
   "execution_count": 16,
   "id": "2e5ee85f",
   "metadata": {},
   "outputs": [
    {
     "data": {
      "text/html": [
       "<div>\n",
       "<style scoped>\n",
       "    .dataframe tbody tr th:only-of-type {\n",
       "        vertical-align: middle;\n",
       "    }\n",
       "\n",
       "    .dataframe tbody tr th {\n",
       "        vertical-align: top;\n",
       "    }\n",
       "\n",
       "    .dataframe thead th {\n",
       "        text-align: right;\n",
       "    }\n",
       "</style>\n",
       "<table border=\"1\" class=\"dataframe\">\n",
       "  <thead>\n",
       "    <tr style=\"text-align: right;\">\n",
       "      <th></th>\n",
       "      <th>Sq_ft</th>\n",
       "      <th>Weather</th>\n",
       "      <th>Buildings</th>\n",
       "      <th>Electricity_used</th>\n",
       "    </tr>\n",
       "  </thead>\n",
       "  <tbody>\n",
       "    <tr>\n",
       "      <th>count</th>\n",
       "      <td>4455.000000</td>\n",
       "      <td>4455.000000</td>\n",
       "      <td>4455.000000</td>\n",
       "      <td>4455.000000</td>\n",
       "    </tr>\n",
       "    <tr>\n",
       "      <th>mean</th>\n",
       "      <td>312960.024198</td>\n",
       "      <td>202.831798</td>\n",
       "      <td>1.501010</td>\n",
       "      <td>15129389.743524</td>\n",
       "    </tr>\n",
       "    <tr>\n",
       "      <th>std</th>\n",
       "      <td>497043.905367</td>\n",
       "      <td>269.373993</td>\n",
       "      <td>5.853390</td>\n",
       "      <td>32241810.025687</td>\n",
       "    </tr>\n",
       "    <tr>\n",
       "      <th>min</th>\n",
       "      <td>44575.000000</td>\n",
       "      <td>9.000000</td>\n",
       "      <td>1.000000</td>\n",
       "      <td>214.000000</td>\n",
       "    </tr>\n",
       "    <tr>\n",
       "      <th>25%</th>\n",
       "      <td>80028.000000</td>\n",
       "      <td>125.400000</td>\n",
       "      <td>1.000000</td>\n",
       "      <td>2362654.800000</td>\n",
       "    </tr>\n",
       "    <tr>\n",
       "      <th>50%</th>\n",
       "      <td>146501.000000</td>\n",
       "      <td>163.200000</td>\n",
       "      <td>1.000000</td>\n",
       "      <td>5494589.300000</td>\n",
       "    </tr>\n",
       "    <tr>\n",
       "      <th>75%</th>\n",
       "      <td>345406.000000</td>\n",
       "      <td>215.400000</td>\n",
       "      <td>1.000000</td>\n",
       "      <td>13108450.000000</td>\n",
       "    </tr>\n",
       "    <tr>\n",
       "      <th>max</th>\n",
       "      <td>9245333.000000</td>\n",
       "      <td>8550.400000</td>\n",
       "      <td>236.000000</td>\n",
       "      <td>495368832.000000</td>\n",
       "    </tr>\n",
       "  </tbody>\n",
       "</table>\n",
       "</div>"
      ],
      "text/plain": [
       "               Sq_ft     Weather   Buildings  Electricity_used\n",
       "count    4455.000000 4455.000000 4455.000000       4455.000000\n",
       "mean   312960.024198  202.831798    1.501010   15129389.743524\n",
       "std    497043.905367  269.373993    5.853390   32241810.025687\n",
       "min     44575.000000    9.000000    1.000000        214.000000\n",
       "25%     80028.000000  125.400000    1.000000    2362654.800000\n",
       "50%    146501.000000  163.200000    1.000000    5494589.300000\n",
       "75%    345406.000000  215.400000    1.000000   13108450.000000\n",
       "max   9245333.000000 8550.400000  236.000000  495368832.000000"
      ]
     },
     "execution_count": 16,
     "metadata": {},
     "output_type": "execute_result"
    }
   ],
   "source": [
    "df.describe()"
   ]
  },
  {
   "cell_type": "code",
   "execution_count": 17,
   "id": "c76f33f3",
   "metadata": {},
   "outputs": [
    {
     "data": {
      "text/html": [
       "<div>\n",
       "<style scoped>\n",
       "    .dataframe tbody tr th:only-of-type {\n",
       "        vertical-align: middle;\n",
       "    }\n",
       "\n",
       "    .dataframe tbody tr th {\n",
       "        vertical-align: top;\n",
       "    }\n",
       "\n",
       "    .dataframe thead th {\n",
       "        text-align: right;\n",
       "    }\n",
       "</style>\n",
       "<table border=\"1\" class=\"dataframe\">\n",
       "  <thead>\n",
       "    <tr style=\"text-align: right;\">\n",
       "      <th></th>\n",
       "      <th>Sq_ft</th>\n",
       "      <th>Weather</th>\n",
       "      <th>Buildings</th>\n",
       "      <th>Electricity_used</th>\n",
       "    </tr>\n",
       "  </thead>\n",
       "  <tbody>\n",
       "    <tr>\n",
       "      <th>2</th>\n",
       "      <td>9245333.000000</td>\n",
       "      <td>200.000000</td>\n",
       "      <td>8</td>\n",
       "      <td>485542954.000000</td>\n",
       "    </tr>\n",
       "    <tr>\n",
       "      <th>1764</th>\n",
       "      <td>9245333.000000</td>\n",
       "      <td>195.600000</td>\n",
       "      <td>8</td>\n",
       "      <td>469870273.000000</td>\n",
       "    </tr>\n",
       "    <tr>\n",
       "      <th>1824</th>\n",
       "      <td>9245333.000000</td>\n",
       "      <td>205.800000</td>\n",
       "      <td>8</td>\n",
       "      <td>485705024.000000</td>\n",
       "    </tr>\n",
       "  </tbody>\n",
       "</table>\n",
       "</div>"
      ],
      "text/plain": [
       "              Sq_ft    Weather  Buildings  Electricity_used\n",
       "2    9245333.000000 200.000000          8  485542954.000000\n",
       "1764 9245333.000000 195.600000          8  469870273.000000\n",
       "1824 9245333.000000 205.800000          8  485705024.000000"
      ]
     },
     "execution_count": 17,
     "metadata": {},
     "output_type": "execute_result"
    }
   ],
   "source": [
    "df[df['Sq_ft'] == 9245333.000000]"
   ]
  },
  {
   "cell_type": "code",
   "execution_count": 18,
   "id": "47c9bfc3",
   "metadata": {},
   "outputs": [
    {
     "data": {
      "text/html": [
       "<div>\n",
       "<style scoped>\n",
       "    .dataframe tbody tr th:only-of-type {\n",
       "        vertical-align: middle;\n",
       "    }\n",
       "\n",
       "    .dataframe tbody tr th {\n",
       "        vertical-align: top;\n",
       "    }\n",
       "\n",
       "    .dataframe thead th {\n",
       "        text-align: right;\n",
       "    }\n",
       "</style>\n",
       "<table border=\"1\" class=\"dataframe\">\n",
       "  <thead>\n",
       "    <tr style=\"text-align: right;\">\n",
       "      <th></th>\n",
       "      <th>Sq_ft</th>\n",
       "      <th>Weather</th>\n",
       "      <th>Buildings</th>\n",
       "      <th>Electricity_used</th>\n",
       "    </tr>\n",
       "  </thead>\n",
       "  <tbody>\n",
       "    <tr>\n",
       "      <th>0</th>\n",
       "      <td>319900.000000</td>\n",
       "      <td>122.000000</td>\n",
       "      <td>1</td>\n",
       "      <td>6889272.000000</td>\n",
       "    </tr>\n",
       "    <tr>\n",
       "      <th>1</th>\n",
       "      <td>447330.000000</td>\n",
       "      <td>261.000000</td>\n",
       "      <td>1</td>\n",
       "      <td>35792767.000000</td>\n",
       "    </tr>\n",
       "    <tr>\n",
       "      <th>2</th>\n",
       "      <td>9245333.000000</td>\n",
       "      <td>200.000000</td>\n",
       "      <td>8</td>\n",
       "      <td>485542954.000000</td>\n",
       "    </tr>\n",
       "    <tr>\n",
       "      <th>3</th>\n",
       "      <td>250000.000000</td>\n",
       "      <td>135.000000</td>\n",
       "      <td>1</td>\n",
       "      <td>6027551.000000</td>\n",
       "    </tr>\n",
       "    <tr>\n",
       "      <th>4</th>\n",
       "      <td>323400.000000</td>\n",
       "      <td>136.000000</td>\n",
       "      <td>1</td>\n",
       "      <td>8184634.000000</td>\n",
       "    </tr>\n",
       "  </tbody>\n",
       "</table>\n",
       "</div>"
      ],
      "text/plain": [
       "           Sq_ft    Weather  Buildings  Electricity_used\n",
       "0  319900.000000 122.000000          1    6889272.000000\n",
       "1  447330.000000 261.000000          1   35792767.000000\n",
       "2 9245333.000000 200.000000          8  485542954.000000\n",
       "3  250000.000000 135.000000          1    6027551.000000\n",
       "4  323400.000000 136.000000          1    8184634.000000"
      ]
     },
     "execution_count": 18,
     "metadata": {},
     "output_type": "execute_result"
    }
   ],
   "source": [
    "df.head()"
   ]
  },
  {
   "cell_type": "code",
   "execution_count": 19,
   "id": "8e98874e",
   "metadata": {},
   "outputs": [
    {
     "data": {
      "text/html": [
       "<div>\n",
       "<style scoped>\n",
       "    .dataframe tbody tr th:only-of-type {\n",
       "        vertical-align: middle;\n",
       "    }\n",
       "\n",
       "    .dataframe tbody tr th {\n",
       "        vertical-align: top;\n",
       "    }\n",
       "\n",
       "    .dataframe thead th {\n",
       "        text-align: right;\n",
       "    }\n",
       "</style>\n",
       "<table border=\"1\" class=\"dataframe\">\n",
       "  <thead>\n",
       "    <tr style=\"text-align: right;\">\n",
       "      <th></th>\n",
       "      <th>Sq_ft</th>\n",
       "      <th>Weather</th>\n",
       "      <th>Buildings</th>\n",
       "      <th>Electricity_used</th>\n",
       "    </tr>\n",
       "  </thead>\n",
       "  <tbody>\n",
       "    <tr>\n",
       "      <th>Sq_ft</th>\n",
       "      <td>1.000000</td>\n",
       "      <td>0.010543</td>\n",
       "      <td>0.156774</td>\n",
       "      <td>0.891359</td>\n",
       "    </tr>\n",
       "    <tr>\n",
       "      <th>Weather</th>\n",
       "      <td>0.010543</td>\n",
       "      <td>1.000000</td>\n",
       "      <td>0.001882</td>\n",
       "      <td>0.108579</td>\n",
       "    </tr>\n",
       "    <tr>\n",
       "      <th>Buildings</th>\n",
       "      <td>0.156774</td>\n",
       "      <td>0.001882</td>\n",
       "      <td>1.000000</td>\n",
       "      <td>0.103789</td>\n",
       "    </tr>\n",
       "    <tr>\n",
       "      <th>Electricity_used</th>\n",
       "      <td>0.891359</td>\n",
       "      <td>0.108579</td>\n",
       "      <td>0.103789</td>\n",
       "      <td>1.000000</td>\n",
       "    </tr>\n",
       "  </tbody>\n",
       "</table>\n",
       "</div>"
      ],
      "text/plain": [
       "                    Sq_ft  Weather  Buildings  Electricity_used\n",
       "Sq_ft            1.000000 0.010543   0.156774          0.891359\n",
       "Weather          0.010543 1.000000   0.001882          0.108579\n",
       "Buildings        0.156774 0.001882   1.000000          0.103789\n",
       "Electricity_used 0.891359 0.108579   0.103789          1.000000"
      ]
     },
     "execution_count": 19,
     "metadata": {},
     "output_type": "execute_result"
    }
   ],
   "source": [
    "df.corr()"
   ]
  },
  {
   "cell_type": "code",
   "execution_count": 20,
   "id": "4376b87c",
   "metadata": {
    "scrolled": true
   },
   "outputs": [
    {
     "data": {
      "image/png": "[encoded data removed]",
      "text/plain": [
       "<Figure size 640x480 with 1 Axes>"
      ]
     },
     "metadata": {},
     "output_type": "display_data"
    }
   ],
   "source": [
    "sns.regplot(x = 'Sq_ft', y = 'Electricity_used', data = df)\n",
    "plt.show()\n"
   ]
  },
  {
   "cell_type": "code",
   "execution_count": 21,
   "id": "f93b5135",
   "metadata": {},
   "outputs": [
    {
     "data": {
      "text/plain": [
       "Data Year\n",
       "2014   13467468768.000000\n",
       "2015   24842394212.000000\n",
       "2016   29091568327.400002\n",
       "Name: Electricity Use (kBtu), dtype: float64"
      ]
     },
     "execution_count": 21,
     "metadata": {},
     "output_type": "execute_result"
    }
   ],
   "source": [
    "\n",
    "\n",
    "df_full = pd.read_csv(\"C://Users//KAMDEO SINGH//Downloads//chicago-energy-benchmarking-1.csv\")\n",
    "line_df = df_full.groupby('Data Year')['Electricity Use (kBtu)'].sum()\n",
    "line_df"
   ]
  },
  {
   "cell_type": "code",
   "execution_count": 22,
   "id": "6b1ae67a",
   "metadata": {},
   "outputs": [
    {
     "data": {
      "image/png": "[encoded data removed]",
      "text/plain": [
       "<Figure size 640x480 with 1 Axes>"
      ]
     },
     "metadata": {},
     "output_type": "display_data"
    }
   ],
   "source": [
    "line_df.plot(kind = 'bar')\n",
    "plt.title('Year wise electricity used')\n",
    "plt.xlabel('Year')\n",
    "plt.ylabel('Electricity used in (kBtu)')\n",
    "plt.show()"
   ]
  },
  {
   "cell_type": "markdown",
   "id": "c24697ea",
   "metadata": {},
   "source": [
    "# Scaling the data"
   ]
  },
  {
   "cell_type": "code",
   "execution_count": 24,
   "id": "1c24b552",
   "metadata": {
    "scrolled": true
   },
   "outputs": [
    {
     "data": {
      "text/plain": [
       "StandardScaler()"
      ]
     },
     "execution_count": 24,
     "metadata": {},
     "output_type": "execute_result"
    }
   ],
   "source": [
    "scaler = StandardScaler()\n",
    "scaler.fit(df[['Sq_ft','Weather','Buildings']])"
   ]
  },
  {
   "cell_type": "code",
   "execution_count": 25,
   "id": "f442bba1",
   "metadata": {
    "scrolled": true
   },
   "outputs": [
    {
     "data": {
      "text/plain": [
       "array([[ 1.39640679e-02, -3.00106447e-01, -8.56027545e-02],\n",
       "       [ 2.70368589e-01,  2.15962686e-01, -8.56027545e-02],\n",
       "       [ 1.79730112e+01, -1.05136964e-02,  1.11041960e+00],\n",
       "       ...,\n",
       "       [-4.79820374e-01,  1.37916023e+00, -8.56027545e-02],\n",
       "       [-2.82807615e-01,  3.60902441e+00, -8.56027545e-02],\n",
       "       [-3.48016418e-01, -5.20962452e-02, -8.56027545e-02]])"
      ]
     },
     "execution_count": 25,
     "metadata": {},
     "output_type": "execute_result"
    }
   ],
   "source": [
    "scaled = scaler.transform(df[['Sq_ft','Weather','Buildings']])\n",
    "scaled"
   ]
  },
  {
   "cell_type": "code",
   "execution_count": 26,
   "id": "9fce871d",
   "metadata": {},
   "outputs": [
    {
     "data": {
      "text/plain": [
       "array([ 1.39640679e-02,  2.70368589e-01,  1.79730112e+01, ...,\n",
       "       -4.79820374e-01, -2.82807615e-01, -3.48016418e-01])"
      ]
     },
     "execution_count": 26,
     "metadata": {},
     "output_type": "execute_result"
    }
   ],
   "source": [
    "scaled[:,0]"
   ]
  },
  {
   "cell_type": "code",
   "execution_count": 27,
   "id": "ef00d258",
   "metadata": {},
   "outputs": [],
   "source": [
    "df['Sq_ft'] = scaled[:,0]\n",
    "df['Weather'] = scaled[:,1]\n",
    "df['Buildings'] = scaled[:,2]"
   ]
  },
  {
   "cell_type": "code",
   "execution_count": 28,
   "id": "e5f09aba",
   "metadata": {},
   "outputs": [
    {
     "data": {
      "text/html": [
       "<div>\n",
       "<style scoped>\n",
       "    .dataframe tbody tr th:only-of-type {\n",
       "        vertical-align: middle;\n",
       "    }\n",
       "\n",
       "    .dataframe tbody tr th {\n",
       "        vertical-align: top;\n",
       "    }\n",
       "\n",
       "    .dataframe thead th {\n",
       "        text-align: right;\n",
       "    }\n",
       "</style>\n",
       "<table border=\"1\" class=\"dataframe\">\n",
       "  <thead>\n",
       "    <tr style=\"text-align: right;\">\n",
       "      <th></th>\n",
       "      <th>Sq_ft</th>\n",
       "      <th>Weather</th>\n",
       "      <th>Buildings</th>\n",
       "      <th>Electricity_used</th>\n",
       "    </tr>\n",
       "  </thead>\n",
       "  <tbody>\n",
       "    <tr>\n",
       "      <th>0</th>\n",
       "      <td>0.013964</td>\n",
       "      <td>-0.300106</td>\n",
       "      <td>-0.085603</td>\n",
       "      <td>6889272.000000</td>\n",
       "    </tr>\n",
       "    <tr>\n",
       "      <th>1</th>\n",
       "      <td>0.270369</td>\n",
       "      <td>0.215963</td>\n",
       "      <td>-0.085603</td>\n",
       "      <td>35792767.000000</td>\n",
       "    </tr>\n",
       "    <tr>\n",
       "      <th>2</th>\n",
       "      <td>17.973011</td>\n",
       "      <td>-0.010514</td>\n",
       "      <td>1.110420</td>\n",
       "      <td>485542954.000000</td>\n",
       "    </tr>\n",
       "    <tr>\n",
       "      <th>3</th>\n",
       "      <td>-0.126683</td>\n",
       "      <td>-0.251841</td>\n",
       "      <td>-0.085603</td>\n",
       "      <td>6027551.000000</td>\n",
       "    </tr>\n",
       "    <tr>\n",
       "      <th>4</th>\n",
       "      <td>0.021006</td>\n",
       "      <td>-0.248128</td>\n",
       "      <td>-0.085603</td>\n",
       "      <td>8184634.000000</td>\n",
       "    </tr>\n",
       "  </tbody>\n",
       "</table>\n",
       "</div>"
      ],
      "text/plain": [
       "      Sq_ft   Weather  Buildings  Electricity_used\n",
       "0  0.013964 -0.300106  -0.085603    6889272.000000\n",
       "1  0.270369  0.215963  -0.085603   35792767.000000\n",
       "2 17.973011 -0.010514   1.110420  485542954.000000\n",
       "3 -0.126683 -0.251841  -0.085603    6027551.000000\n",
       "4  0.021006 -0.248128  -0.085603    8184634.000000"
      ]
     },
     "execution_count": 28,
     "metadata": {},
     "output_type": "execute_result"
    }
   ],
   "source": [
    "df.head()"
   ]
  },
  {
   "cell_type": "code",
   "execution_count": 29,
   "id": "b14855e0",
   "metadata": {
    "scrolled": true
   },
   "outputs": [
    {
     "data": {
      "text/plain": [
       "Sq_ft               0\n",
       "Weather             0\n",
       "Buildings           0\n",
       "Electricity_used    0\n",
       "dtype: int64"
      ]
     },
     "execution_count": 29,
     "metadata": {},
     "output_type": "execute_result"
    }
   ],
   "source": [
    "df.isna().sum()"
   ]
  },
  {
   "cell_type": "markdown",
   "id": "2bf47a2b",
   "metadata": {},
   "source": [
    "# Splitting the data"
   ]
  },
  {
   "cell_type": "code",
   "execution_count": 30,
   "id": "58aedb9f",
   "metadata": {},
   "outputs": [],
   "source": [
    "X = df.drop(['Electricity_used'], axis = 1)\n",
    "y = df['Electricity_used']"
   ]
  },
  {
   "cell_type": "code",
   "execution_count": 31,
   "id": "e0755a7d",
   "metadata": {},
   "outputs": [],
   "source": [
    "X_train, X_test, y_train, y_test = train_test_split(X, y, test_size=0.2, random_state=42)"
   ]
  },
  {
   "cell_type": "code",
   "execution_count": 32,
   "id": "c3594f19",
   "metadata": {},
   "outputs": [
    {
     "name": "stdout",
     "output_type": "stream",
     "text": [
      "3564\n",
      "891\n",
      "3564\n",
      "891\n"
     ]
    }
   ],
   "source": [
    "print(len(X_train))\n",
    "print(len(X_test))\n",
    "print(len(y_train))\n",
    "print(len(y_test))"
   ]
  },
  {
   "cell_type": "code",
   "execution_count": 33,
   "id": "a396a7d1",
   "metadata": {},
   "outputs": [
    {
     "data": {
      "text/html": [
       "<div>\n",
       "<style scoped>\n",
       "    .dataframe tbody tr th:only-of-type {\n",
       "        vertical-align: middle;\n",
       "    }\n",
       "\n",
       "    .dataframe tbody tr th {\n",
       "        vertical-align: top;\n",
       "    }\n",
       "\n",
       "    .dataframe thead th {\n",
       "        text-align: right;\n",
       "    }\n",
       "</style>\n",
       "<table border=\"1\" class=\"dataframe\">\n",
       "  <thead>\n",
       "    <tr style=\"text-align: right;\">\n",
       "      <th></th>\n",
       "      <th>Sq_ft</th>\n",
       "      <th>Weather</th>\n",
       "      <th>Buildings</th>\n",
       "    </tr>\n",
       "  </thead>\n",
       "  <tbody>\n",
       "    <tr>\n",
       "      <th>95</th>\n",
       "      <td>3.076082</td>\n",
       "      <td>-0.192437</td>\n",
       "      <td>-0.085603</td>\n",
       "    </tr>\n",
       "    <tr>\n",
       "      <th>3056</th>\n",
       "      <td>-0.514517</td>\n",
       "      <td>1.141546</td>\n",
       "      <td>-0.085603</td>\n",
       "    </tr>\n",
       "    <tr>\n",
       "      <th>2792</th>\n",
       "      <td>4.903618</td>\n",
       "      <td>-0.261494</td>\n",
       "      <td>0.426978</td>\n",
       "    </tr>\n",
       "    <tr>\n",
       "      <th>4480</th>\n",
       "      <td>-0.348016</td>\n",
       "      <td>-0.052096</td>\n",
       "      <td>-0.085603</td>\n",
       "    </tr>\n",
       "    <tr>\n",
       "      <th>240</th>\n",
       "      <td>0.379548</td>\n",
       "      <td>-0.285256</td>\n",
       "      <td>1.281280</td>\n",
       "    </tr>\n",
       "  </tbody>\n",
       "</table>\n",
       "</div>"
      ],
      "text/plain": [
       "         Sq_ft   Weather  Buildings\n",
       "95    3.076082 -0.192437  -0.085603\n",
       "3056 -0.514517  1.141546  -0.085603\n",
       "2792  4.903618 -0.261494   0.426978\n",
       "4480 -0.348016 -0.052096  -0.085603\n",
       "240   0.379548 -0.285256   1.281280"
      ]
     },
     "execution_count": 33,
     "metadata": {},
     "output_type": "execute_result"
    }
   ],
   "source": [
    "X_train.head()"
   ]
  },
  {
   "cell_type": "markdown",
   "id": "fb7d6807",
   "metadata": {},
   "source": [
    "# Model Building"
   ]
  },
  {
   "cell_type": "code",
   "execution_count": 82,
   "id": "d2ed1573",
   "metadata": {},
   "outputs": [
    {
     "name": "stdout",
     "output_type": "stream",
     "text": [
      "Linear: Train 0.8089937689460402, Test 0.7832256097114555\n",
      "Ridge: Train 0.808993707671905, Test 0.7831761340322119\n",
      "Lasso: Train 0.8089937689460363, Test 0.7832256152899489\n",
      "Elastic net: Train 0.7239350280463618, Test 0.6557043218547682\n",
      "Decision Tree: Train 0.9999954625078863, Test 0.9600265178629425\n",
      "Random Forest: Train 0.9949832873529324, Test 0.9414542161490833\n"
     ]
    }
   ],
   "source": [
    "models = []\n",
    "models.append(('Linear', LinearRegression()))\n",
    "models.append(('Ridge',Ridge(random_state=1)))\n",
    "models.append(('Lasso',Lasso(random_state=1)))\n",
    "models.append(('Elastic net',ElasticNet(random_state=1)))\n",
    "models.append(('Decision Tree', DecisionTreeRegressor(random_state=1)))\n",
    "models.append(('Random Forest', RandomForestRegressor(random_state=1)))\n",
    "\n",
    "result = []\n",
    "names = []\n",
    "\n",
    "for name, model in models:\n",
    "    model.fit(X_train,y_train)\n",
    "    score = model.score(X_train,y_train)\n",
    "    test_score = model.score(X_test,y_test)\n",
    "    result.append(score)\n",
    "    print('{}: Train {}, Test {}'.format(name,score,test_score))"
   ]
  },
  {
   "cell_type": "code",
   "execution_count": 83,
   "id": "4394c54f",
   "metadata": {},
   "outputs": [
    {
     "name": "stdout",
     "output_type": "stream",
     "text": [
      "RMSE Scores for the models\n",
      "\n",
      "Linear: 15289843.443319043\n",
      "Ridge: 15291588.188697198\n",
      "Lasso: 15289843.246583875\n",
      "Elastic net: 19269251.160027258\n",
      "Decision Tree: 6565760.589585783\n",
      "Random Forest: 7945968.963550113\n"
     ]
    }
   ],
   "source": [
    "print('RMSE Scores for the models\\n')\n",
    "for name, model in models:\n",
    "    model.fit(X_train,y_train)\n",
    "    pred = model.predict(X_test)\n",
    "    rmse = np.sqrt(mean_squared_error(y_test,pred))\n",
    "    print('{}: {}'.format(name, rmse))"
   ]
  },
  {
   "cell_type": "code",
   "execution_count": 34,
   "id": "b5497b63",
   "metadata": {},
   "outputs": [
    {
     "name": "stdout",
     "output_type": "stream",
     "text": [
      "[0]\tvalidation_0-rmse:29277177.19814\tvalidation_1-rmse:29965843.52330\n",
      "[50]\tvalidation_0-rmse:3054163.60987\tvalidation_1-rmse:6871986.02630\n",
      "[100]\tvalidation_0-rmse:2614356.81461\tvalidation_1-rmse:6677815.52271\n",
      "[150]\tvalidation_0-rmse:2267222.53655\tvalidation_1-rmse:6710572.72997\n",
      "[200]\tvalidation_0-rmse:2052793.26707\tvalidation_1-rmse:6665471.32310\n",
      "[250]\tvalidation_0-rmse:1871243.99042\tvalidation_1-rmse:6685441.12082\n",
      "[300]\tvalidation_0-rmse:1710085.12518\tvalidation_1-rmse:6680866.79074\n",
      "[350]\tvalidation_0-rmse:1591093.75165\tvalidation_1-rmse:6660069.09626\n",
      "[400]\tvalidation_0-rmse:1457935.59926\tvalidation_1-rmse:6672673.30480\n",
      "[450]\tvalidation_0-rmse:1368579.26123\tvalidation_1-rmse:6702412.31132\n",
      "[500]\tvalidation_0-rmse:1287085.01904\tvalidation_1-rmse:6712216.90093\n",
      "[550]\tvalidation_0-rmse:1225413.65889\tvalidation_1-rmse:6721457.19169\n",
      "[600]\tvalidation_0-rmse:1154491.31767\tvalidation_1-rmse:6730183.61345\n",
      "[622]\tvalidation_0-rmse:1119608.33734\tvalidation_1-rmse:6734492.62243\n"
     ]
    },
    {
     "data": {
      "text/plain": [
       "0.9973487722571881"
      ]
     },
     "execution_count": 34,
     "metadata": {},
     "output_type": "execute_result"
    }
   ],
   "source": [
    "xgb = XGBRegressor(n_estimators = 10000,early_stopping_rounds = 300, learning_rate = 0.1)\n",
    "xgb.fit(X_train,y_train, eval_set=[(X_train,y_train),(X_test,y_test)], verbose=50)\n",
    "xgb.score(X_train,y_train)"
   ]
  },
  {
   "cell_type": "code",
   "execution_count": 35,
   "id": "c584cb6e",
   "metadata": {},
   "outputs": [
    {
     "data": {
      "text/plain": [
       "0.9589273167541061"
      ]
     },
     "execution_count": 35,
     "metadata": {},
     "output_type": "execute_result"
    }
   ],
   "source": [
    "xgb.score(X_test,y_test)"
   ]
  },
  {
   "cell_type": "code",
   "execution_count": 36,
   "id": "df9b670b",
   "metadata": {},
   "outputs": [
    {
     "name": "stdout",
     "output_type": "stream",
     "text": [
      "XGBoost: RMSE: 6655421.875389398\n"
     ]
    }
   ],
   "source": [
    "rmse_xgb = np.sqrt(mean_squared_error(y_test, xgb.predict(X_test)))\n",
    "print('XGBoost: RMSE: {}'.format(rmse_xgb))"
   ]
  },
  {
   "cell_type": "code",
   "execution_count": 39,
   "id": "73cf7a4a",
   "metadata": {},
   "outputs": [
    {
     "data": {
      "text/plain": [
       "'0.11.2'"
      ]
     },
     "execution_count": 39,
     "metadata": {},
     "output_type": "execute_result"
    }
   ],
   "source": [
    "sns.__version__"
   ]
  },
  {
   "cell_type": "markdown",
   "id": "56c915d4",
   "metadata": {},
   "source": [
    "# Hyperparameter tuning"
   ]
  },
  {
   "cell_type": "code",
   "execution_count": 88,
   "id": "1b572b2f",
   "metadata": {},
   "outputs": [],
   "source": [
    "params_dt = {'max_depth':[None,10,20,30],\n",
    "    'min_samples_split':[2,3,4,5],\n",
    "    'min_samples_leaf':[1,4,5,6,10],\n",
    "    'max_features':['auto', 'sqrt', 'log2'],\n",
    "    'min_weight_fraction_leaf':[0.0,0.1,0.001],\n",
    "    'max_features':[1,2,3,4]}"
   ]
  },
  {
   "cell_type": "code",
   "execution_count": 89,
   "id": "ed6b292b",
   "metadata": {},
   "outputs": [],
   "source": [
    "grid_serch = GridSearchCV(estimator=dt, param_grid=params_dt, cv= 5, scoring='accuracy')"
   ]
  },
  {
   "cell_type": "code",
   "execution_count": 90,
   "id": "60801e97",
   "metadata": {},
   "outputs": [
    {
     "data": {
      "text/plain": [
       "GridSearchCV(cv=5, estimator=DecisionTreeRegressor(random_state=1),\n",
       "             param_grid={'max_depth': [None, 10, 20, 30],\n",
       "                         'max_features': [1, 2, 3, 4],\n",
       "                         'min_samples_leaf': [1, 4, 5, 6, 10],\n",
       "                         'min_samples_split': [2, 3, 4, 5],\n",
       "                         'min_weight_fraction_leaf': [0.0, 0.1, 0.001]},\n",
       "             scoring='accuracy')"
      ]
     },
     "execution_count": 90,
     "metadata": {},
     "output_type": "execute_result"
    }
   ],
   "source": [
    "grid_serch.fit(X,y)"
   ]
  },
  {
   "cell_type": "code",
   "execution_count": 91,
   "id": "be36db63",
   "metadata": {},
   "outputs": [],
   "source": [
    "best_score = grid_serch.best_score_\n",
    "best_estimate = grid_serch.best_params_"
   ]
  },
  {
   "cell_type": "code",
   "execution_count": 92,
   "id": "8066619f",
   "metadata": {},
   "outputs": [
    {
     "data": {
      "text/plain": [
       "{'max_depth': None,\n",
       " 'max_features': 1,\n",
       " 'min_samples_leaf': 1,\n",
       " 'min_samples_split': 2,\n",
       " 'min_weight_fraction_leaf': 0.0}"
      ]
     },
     "execution_count": 92,
     "metadata": {},
     "output_type": "execute_result"
    }
   ],
   "source": [
    "best_estimate"
   ]
  },
  {
   "cell_type": "code",
   "execution_count": 45,
   "id": "bf4b01ca",
   "metadata": {},
   "outputs": [
    {
     "data": {
      "text/plain": [
       "DecisionTreeRegressor(max_features='auto')"
      ]
     },
     "execution_count": 45,
     "metadata": {},
     "output_type": "execute_result"
    }
   ],
   "source": [
    "dt_new = DecisionTreeRegressor(max_depth=None, \n",
    "                               max_features='auto', \n",
    "                               min_samples_leaf=1, \n",
    "                               min_samples_split=2)\n",
    "dt_new.fit(X_train,y_train)"
   ]
  },
  {
   "cell_type": "code",
   "execution_count": 46,
   "id": "b76feec7",
   "metadata": {},
   "outputs": [
    {
     "name": "stdout",
     "output_type": "stream",
     "text": [
      "Decision Tree Tuned train score:  0.9999954625078863\n",
      "Decision Tree Tuned test score:  0.9582432186412967\n"
     ]
    }
   ],
   "source": [
    "print('Decision Tree Tuned train score: ',dt_new.score(X_train,y_train))\n",
    "print('Decision Tree Tuned test score: ',dt_new.score(X_test,y_test))"
   ]
  },
  {
   "cell_type": "code",
   "execution_count": 47,
   "id": "e9997dfd",
   "metadata": {},
   "outputs": [],
   "source": [
    "pred_dt = dt_new.predict(X_test)"
   ]
  },
  {
   "cell_type": "code",
   "execution_count": 52,
   "id": "006f8692",
   "metadata": {},
   "outputs": [],
   "source": [
    "plot_dt = pd.DataFrame([y_test,pred_dt]).transpose()\n",
    "plot_dt.columns = ['Actual set','Predicted set']"
   ]
  },
  {
   "cell_type": "code",
   "execution_count": 58,
   "id": "f4b551ea",
   "metadata": {},
   "outputs": [
    {
     "data": {
      "text/plain": [
       "<Axes: ylabel='Density'>"
      ]
     },
     "execution_count": 58,
     "metadata": {},
     "output_type": "execute_result"
    },
    {
     "data": {
      "image/png": "[encoded data removed]",
      "text/plain": [
       "<Figure size 800x600 with 1 Axes>"
      ]
     },
     "metadata": {},
     "output_type": "display_data"
    }
   ],
   "source": [
    "plot_dt.plot(kind = 'kde', figsize = (8,6))"
   ]
  },
  {
   "cell_type": "markdown",
   "id": "aeb574d2",
   "metadata": {},
   "source": [
    "# XGBoost Regressor"
   ]
  },
  {
   "cell_type": "code",
   "execution_count": 98,
   "id": "82b46bcd",
   "metadata": {},
   "outputs": [],
   "source": [
    "param_xgb = {\n",
    "    'n_estimators': [1000, 10000, 15000],\n",
    "    'learning_rate': [0.01, 0.1],\n",
    "    'max_depth': [3, 4], \n",
    "    'min_child_weight': [1, 3],\n",
    "    'subsample': [0.8, 0.9, 1.0],\n",
    "    'colsample_bytree': [0.8, 0.9, 1.0],\n",
    "    'gamma': [0, 0.1],\n",
    "    'reg_alpha': [0, 0.01, 0.1], \n",
    "    'reg_lambda': [0, 0.01, 0.1],\n",
    "}"
   ]
  },
  {
   "cell_type": "code",
   "execution_count": 99,
   "id": "ec7670f8",
   "metadata": {},
   "outputs": [],
   "source": [
    "mse_scorer = make_scorer(mean_squared_error, greater_is_better=False)\n",
    "grid_serch_xgb = RandomizedSearchCV(estimator=XGBRegressor(), \n",
    "                                    param_distributions=param_xgb, \n",
    "                                    scoring=mse_scorer, \n",
    "                                    cv=5, \n",
    "                                    verbose=50, \n",
    "                                    error_score='raise')"
   ]
  },
  {
   "cell_type": "code",
   "execution_count": 100,
   "id": "8844eb00",
   "metadata": {},
   "outputs": [
    {
     "name": "stdout",
     "output_type": "stream",
     "text": [
      "Fitting 5 folds for each of 10 candidates, totalling 50 fits\n",
      "[CV 1/5; 1/10] START colsample_bytree=0.8, gamma=0, learning_rate=0.1, max_depth=4, min_child_weight=1, n_estimators=15000, reg_alpha=0.1, reg_lambda=0.01, subsample=0.9\n",
      "[CV 1/5; 1/10] END colsample_bytree=0.8, gamma=0, learning_rate=0.1, max_depth=4, min_child_weight=1, n_estimators=15000, reg_alpha=0.1, reg_lambda=0.01, subsample=0.9;, score=-50955061190329.523 total time=   7.0s\n",
      "[CV 2/5; 1/10] START colsample_bytree=0.8, gamma=0, learning_rate=0.1, max_depth=4, min_child_weight=1, n_estimators=15000, reg_alpha=0.1, reg_lambda=0.01, subsample=0.9\n",
      "[CV 2/5; 1/10] END colsample_bytree=0.8, gamma=0, learning_rate=0.1, max_depth=4, min_child_weight=1, n_estimators=15000, reg_alpha=0.1, reg_lambda=0.01, subsample=0.9;, score=-35471264316164.391 total time=   6.9s\n",
      "[CV 3/5; 1/10] START colsample_bytree=0.8, gamma=0, learning_rate=0.1, max_depth=4, min_child_weight=1, n_estimators=15000, reg_alpha=0.1, reg_lambda=0.01, subsample=0.9\n",
      "[CV 3/5; 1/10] END colsample_bytree=0.8, gamma=0, learning_rate=0.1, max_depth=4, min_child_weight=1, n_estimators=15000, reg_alpha=0.1, reg_lambda=0.01, subsample=0.9;, score=-54709199934592.000 total time=   7.8s\n",
      "[CV 4/5; 1/10] START colsample_bytree=0.8, gamma=0, learning_rate=0.1, max_depth=4, min_child_weight=1, n_estimators=15000, reg_alpha=0.1, reg_lambda=0.01, subsample=0.9\n",
      "[CV 4/5; 1/10] END colsample_bytree=0.8, gamma=0, learning_rate=0.1, max_depth=4, min_child_weight=1, n_estimators=15000, reg_alpha=0.1, reg_lambda=0.01, subsample=0.9;, score=-37716941932240.078 total time=  10.5s\n",
      "[CV 5/5; 1/10] START colsample_bytree=0.8, gamma=0, learning_rate=0.1, max_depth=4, min_child_weight=1, n_estimators=15000, reg_alpha=0.1, reg_lambda=0.01, subsample=0.9\n",
      "[CV 5/5; 1/10] END colsample_bytree=0.8, gamma=0, learning_rate=0.1, max_depth=4, min_child_weight=1, n_estimators=15000, reg_alpha=0.1, reg_lambda=0.01, subsample=0.9;, score=-25246059764172.355 total time=  14.4s\n",
      "[CV 1/5; 2/10] START colsample_bytree=0.9, gamma=0.1, learning_rate=0.1, max_depth=4, min_child_weight=3, n_estimators=10000, reg_alpha=0.01, reg_lambda=0.01, subsample=0.9\n",
      "[CV 1/5; 2/10] END colsample_bytree=0.9, gamma=0.1, learning_rate=0.1, max_depth=4, min_child_weight=3, n_estimators=10000, reg_alpha=0.01, reg_lambda=0.01, subsample=0.9;, score=-54680607170487.258 total time=   6.7s\n",
      "[CV 2/5; 2/10] START colsample_bytree=0.9, gamma=0.1, learning_rate=0.1, max_depth=4, min_child_weight=3, n_estimators=10000, reg_alpha=0.01, reg_lambda=0.01, subsample=0.9\n",
      "[CV 2/5; 2/10] END colsample_bytree=0.9, gamma=0.1, learning_rate=0.1, max_depth=4, min_child_weight=3, n_estimators=10000, reg_alpha=0.01, reg_lambda=0.01, subsample=0.9;, score=-30526283384507.922 total time=   5.4s\n",
      "[CV 3/5; 2/10] START colsample_bytree=0.9, gamma=0.1, learning_rate=0.1, max_depth=4, min_child_weight=3, n_estimators=10000, reg_alpha=0.01, reg_lambda=0.01, subsample=0.9\n",
      "[CV 3/5; 2/10] END colsample_bytree=0.9, gamma=0.1, learning_rate=0.1, max_depth=4, min_child_weight=3, n_estimators=10000, reg_alpha=0.01, reg_lambda=0.01, subsample=0.9;, score=-74369519967259.625 total time=   8.3s\n",
      "[CV 4/5; 2/10] START colsample_bytree=0.9, gamma=0.1, learning_rate=0.1, max_depth=4, min_child_weight=3, n_estimators=10000, reg_alpha=0.01, reg_lambda=0.01, subsample=0.9\n",
      "[CV 4/5; 2/10] END colsample_bytree=0.9, gamma=0.1, learning_rate=0.1, max_depth=4, min_child_weight=3, n_estimators=10000, reg_alpha=0.01, reg_lambda=0.01, subsample=0.9;, score=-41472053217022.766 total time=   8.2s\n",
      "[CV 5/5; 2/10] START colsample_bytree=0.9, gamma=0.1, learning_rate=0.1, max_depth=4, min_child_weight=3, n_estimators=10000, reg_alpha=0.01, reg_lambda=0.01, subsample=0.9\n",
      "[CV 5/5; 2/10] END colsample_bytree=0.9, gamma=0.1, learning_rate=0.1, max_depth=4, min_child_weight=3, n_estimators=10000, reg_alpha=0.01, reg_lambda=0.01, subsample=0.9;, score=-42386274335998.172 total time=   7.6s\n",
      "[CV 1/5; 3/10] START colsample_bytree=1.0, gamma=0, learning_rate=0.1, max_depth=3, min_child_weight=1, n_estimators=1000, reg_alpha=0.01, reg_lambda=0.1, subsample=1.0\n",
      "[CV 1/5; 3/10] END colsample_bytree=1.0, gamma=0, learning_rate=0.1, max_depth=3, min_child_weight=1, n_estimators=1000, reg_alpha=0.01, reg_lambda=0.1, subsample=1.0;, score=-37979144489459.891 total time=   0.5s\n",
      "[CV 2/5; 3/10] START colsample_bytree=1.0, gamma=0, learning_rate=0.1, max_depth=3, min_child_weight=1, n_estimators=1000, reg_alpha=0.01, reg_lambda=0.1, subsample=1.0\n",
      "[CV 2/5; 3/10] END colsample_bytree=1.0, gamma=0, learning_rate=0.1, max_depth=3, min_child_weight=1, n_estimators=1000, reg_alpha=0.01, reg_lambda=0.1, subsample=1.0;, score=-24267872656491.164 total time=   0.5s\n",
      "[CV 3/5; 3/10] START colsample_bytree=1.0, gamma=0, learning_rate=0.1, max_depth=3, min_child_weight=1, n_estimators=1000, reg_alpha=0.01, reg_lambda=0.1, subsample=1.0\n",
      "[CV 3/5; 3/10] END colsample_bytree=1.0, gamma=0, learning_rate=0.1, max_depth=3, min_child_weight=1, n_estimators=1000, reg_alpha=0.01, reg_lambda=0.1, subsample=1.0;, score=-69286885096376.102 total time=   0.4s\n",
      "[CV 4/5; 3/10] START colsample_bytree=1.0, gamma=0, learning_rate=0.1, max_depth=3, min_child_weight=1, n_estimators=1000, reg_alpha=0.01, reg_lambda=0.1, subsample=1.0\n",
      "[CV 4/5; 3/10] END colsample_bytree=1.0, gamma=0, learning_rate=0.1, max_depth=3, min_child_weight=1, n_estimators=1000, reg_alpha=0.01, reg_lambda=0.1, subsample=1.0;, score=-32322814619900.680 total time=   0.4s\n",
      "[CV 5/5; 3/10] START colsample_bytree=1.0, gamma=0, learning_rate=0.1, max_depth=3, min_child_weight=1, n_estimators=1000, reg_alpha=0.01, reg_lambda=0.1, subsample=1.0\n",
      "[CV 5/5; 3/10] END colsample_bytree=1.0, gamma=0, learning_rate=0.1, max_depth=3, min_child_weight=1, n_estimators=1000, reg_alpha=0.01, reg_lambda=0.1, subsample=1.0;, score=-19338141747685.797 total time=   0.4s\n",
      "[CV 1/5; 4/10] START colsample_bytree=0.9, gamma=0.1, learning_rate=0.1, max_depth=3, min_child_weight=3, n_estimators=1000, reg_alpha=0.1, reg_lambda=0.1, subsample=0.8\n",
      "[CV 1/5; 4/10] END colsample_bytree=0.9, gamma=0.1, learning_rate=0.1, max_depth=3, min_child_weight=3, n_estimators=1000, reg_alpha=0.1, reg_lambda=0.1, subsample=0.8;, score=-51593717347177.758 total time=   0.4s\n",
      "[CV 2/5; 4/10] START colsample_bytree=0.9, gamma=0.1, learning_rate=0.1, max_depth=3, min_child_weight=3, n_estimators=1000, reg_alpha=0.1, reg_lambda=0.1, subsample=0.8\n",
      "[CV 2/5; 4/10] END colsample_bytree=0.9, gamma=0.1, learning_rate=0.1, max_depth=3, min_child_weight=3, n_estimators=1000, reg_alpha=0.1, reg_lambda=0.1, subsample=0.8;, score=-36433744126075.398 total time=   0.4s\n",
      "[CV 3/5; 4/10] START colsample_bytree=0.9, gamma=0.1, learning_rate=0.1, max_depth=3, min_child_weight=3, n_estimators=1000, reg_alpha=0.1, reg_lambda=0.1, subsample=0.8\n",
      "[CV 3/5; 4/10] END colsample_bytree=0.9, gamma=0.1, learning_rate=0.1, max_depth=3, min_child_weight=3, n_estimators=1000, reg_alpha=0.1, reg_lambda=0.1, subsample=0.8;, score=-64160379520975.469 total time=   0.5s\n",
      "[CV 4/5; 4/10] START colsample_bytree=0.9, gamma=0.1, learning_rate=0.1, max_depth=3, min_child_weight=3, n_estimators=1000, reg_alpha=0.1, reg_lambda=0.1, subsample=0.8\n",
      "[CV 4/5; 4/10] END colsample_bytree=0.9, gamma=0.1, learning_rate=0.1, max_depth=3, min_child_weight=3, n_estimators=1000, reg_alpha=0.1, reg_lambda=0.1, subsample=0.8;, score=-40050081917703.539 total time=   0.4s\n",
      "[CV 5/5; 4/10] START colsample_bytree=0.9, gamma=0.1, learning_rate=0.1, max_depth=3, min_child_weight=3, n_estimators=1000, reg_alpha=0.1, reg_lambda=0.1, subsample=0.8\n",
      "[CV 5/5; 4/10] END colsample_bytree=0.9, gamma=0.1, learning_rate=0.1, max_depth=3, min_child_weight=3, n_estimators=1000, reg_alpha=0.1, reg_lambda=0.1, subsample=0.8;, score=-23570743740594.676 total time=   0.4s\n",
      "[CV 1/5; 5/10] START colsample_bytree=1.0, gamma=0.1, learning_rate=0.1, max_depth=4, min_child_weight=3, n_estimators=15000, reg_alpha=0.01, reg_lambda=0, subsample=0.8\n",
      "[CV 1/5; 5/10] END colsample_bytree=1.0, gamma=0.1, learning_rate=0.1, max_depth=4, min_child_weight=3, n_estimators=15000, reg_alpha=0.01, reg_lambda=0, subsample=0.8;, score=-50993033575190.438 total time=  10.7s\n",
      "[CV 2/5; 5/10] START colsample_bytree=1.0, gamma=0.1, learning_rate=0.1, max_depth=4, min_child_weight=3, n_estimators=15000, reg_alpha=0.01, reg_lambda=0, subsample=0.8\n",
      "[CV 2/5; 5/10] END colsample_bytree=1.0, gamma=0.1, learning_rate=0.1, max_depth=4, min_child_weight=3, n_estimators=15000, reg_alpha=0.01, reg_lambda=0, subsample=0.8;, score=-26905968384076.832 total time=  10.0s\n",
      "[CV 3/5; 5/10] START colsample_bytree=1.0, gamma=0.1, learning_rate=0.1, max_depth=4, min_child_weight=3, n_estimators=15000, reg_alpha=0.01, reg_lambda=0, subsample=0.8\n",
      "[CV 3/5; 5/10] END colsample_bytree=1.0, gamma=0.1, learning_rate=0.1, max_depth=4, min_child_weight=3, n_estimators=15000, reg_alpha=0.01, reg_lambda=0, subsample=0.8;, score=-66035567323895.945 total time=  13.5s\n",
      "[CV 4/5; 5/10] START colsample_bytree=1.0, gamma=0.1, learning_rate=0.1, max_depth=4, min_child_weight=3, n_estimators=15000, reg_alpha=0.01, reg_lambda=0, subsample=0.8\n",
      "[CV 4/5; 5/10] END colsample_bytree=1.0, gamma=0.1, learning_rate=0.1, max_depth=4, min_child_weight=3, n_estimators=15000, reg_alpha=0.01, reg_lambda=0, subsample=0.8;, score=-35563822908042.297 total time=  14.3s\n",
      "[CV 5/5; 5/10] START colsample_bytree=1.0, gamma=0.1, learning_rate=0.1, max_depth=4, min_child_weight=3, n_estimators=15000, reg_alpha=0.01, reg_lambda=0, subsample=0.8\n",
      "[CV 5/5; 5/10] END colsample_bytree=1.0, gamma=0.1, learning_rate=0.1, max_depth=4, min_child_weight=3, n_estimators=15000, reg_alpha=0.01, reg_lambda=0, subsample=0.8;, score=-24730588127266.887 total time=  14.9s\n",
      "[CV 1/5; 6/10] START colsample_bytree=1.0, gamma=0, learning_rate=0.01, max_depth=3, min_child_weight=1, n_estimators=15000, reg_alpha=0.01, reg_lambda=0.01, subsample=0.8\n",
      "[CV 1/5; 6/10] END colsample_bytree=1.0, gamma=0, learning_rate=0.01, max_depth=3, min_child_weight=1, n_estimators=15000, reg_alpha=0.01, reg_lambda=0.01, subsample=0.8;, score=-35255188386088.664 total time=   9.4s\n",
      "[CV 2/5; 6/10] START colsample_bytree=1.0, gamma=0, learning_rate=0.01, max_depth=3, min_child_weight=1, n_estimators=15000, reg_alpha=0.01, reg_lambda=0.01, subsample=0.8\n",
      "[CV 2/5; 6/10] END colsample_bytree=1.0, gamma=0, learning_rate=0.01, max_depth=3, min_child_weight=1, n_estimators=15000, reg_alpha=0.01, reg_lambda=0.01, subsample=0.8;, score=-22243474462374.098 total time=  10.3s\n",
      "[CV 3/5; 6/10] START colsample_bytree=1.0, gamma=0, learning_rate=0.01, max_depth=3, min_child_weight=1, n_estimators=15000, reg_alpha=0.01, reg_lambda=0.01, subsample=0.8\n",
      "[CV 3/5; 6/10] END colsample_bytree=1.0, gamma=0, learning_rate=0.01, max_depth=3, min_child_weight=1, n_estimators=15000, reg_alpha=0.01, reg_lambda=0.01, subsample=0.8;, score=-68565435631032.445 total time=  10.5s\n",
      "[CV 4/5; 6/10] START colsample_bytree=1.0, gamma=0, learning_rate=0.01, max_depth=3, min_child_weight=1, n_estimators=15000, reg_alpha=0.01, reg_lambda=0.01, subsample=0.8\n",
      "[CV 4/5; 6/10] END colsample_bytree=1.0, gamma=0, learning_rate=0.01, max_depth=3, min_child_weight=1, n_estimators=15000, reg_alpha=0.01, reg_lambda=0.01, subsample=0.8;, score=-30667221616210.543 total time=   8.8s\n",
      "[CV 5/5; 6/10] START colsample_bytree=1.0, gamma=0, learning_rate=0.01, max_depth=3, min_child_weight=1, n_estimators=15000, reg_alpha=0.01, reg_lambda=0.01, subsample=0.8\n",
      "[CV 5/5; 6/10] END colsample_bytree=1.0, gamma=0, learning_rate=0.01, max_depth=3, min_child_weight=1, n_estimators=15000, reg_alpha=0.01, reg_lambda=0.01, subsample=0.8;, score=-19853541277837.988 total time=  10.4s\n",
      "[CV 1/5; 7/10] START colsample_bytree=1.0, gamma=0.1, learning_rate=0.01, max_depth=4, min_child_weight=3, n_estimators=1000, reg_alpha=0.01, reg_lambda=0, subsample=0.9\n",
      "[CV 1/5; 7/10] END colsample_bytree=1.0, gamma=0.1, learning_rate=0.01, max_depth=4, min_child_weight=3, n_estimators=1000, reg_alpha=0.01, reg_lambda=0, subsample=0.9;, score=-41074720288920.188 total time=   0.8s\n",
      "[CV 2/5; 7/10] START colsample_bytree=1.0, gamma=0.1, learning_rate=0.01, max_depth=4, min_child_weight=3, n_estimators=1000, reg_alpha=0.01, reg_lambda=0, subsample=0.9\n",
      "[CV 2/5; 7/10] END colsample_bytree=1.0, gamma=0.1, learning_rate=0.01, max_depth=4, min_child_weight=3, n_estimators=1000, reg_alpha=0.01, reg_lambda=0, subsample=0.9;, score=-21816320841570.609 total time=   0.8s\n",
      "[CV 3/5; 7/10] START colsample_bytree=1.0, gamma=0.1, learning_rate=0.01, max_depth=4, min_child_weight=3, n_estimators=1000, reg_alpha=0.01, reg_lambda=0, subsample=0.9\n",
      "[CV 3/5; 7/10] END colsample_bytree=1.0, gamma=0.1, learning_rate=0.01, max_depth=4, min_child_weight=3, n_estimators=1000, reg_alpha=0.01, reg_lambda=0, subsample=0.9;, score=-62429520679796.367 total time=   0.8s\n",
      "[CV 4/5; 7/10] START colsample_bytree=1.0, gamma=0.1, learning_rate=0.01, max_depth=4, min_child_weight=3, n_estimators=1000, reg_alpha=0.01, reg_lambda=0, subsample=0.9\n",
      "[CV 4/5; 7/10] END colsample_bytree=1.0, gamma=0.1, learning_rate=0.01, max_depth=4, min_child_weight=3, n_estimators=1000, reg_alpha=0.01, reg_lambda=0, subsample=0.9;, score=-24965551926365.266 total time=   0.8s\n",
      "[CV 5/5; 7/10] START colsample_bytree=1.0, gamma=0.1, learning_rate=0.01, max_depth=4, min_child_weight=3, n_estimators=1000, reg_alpha=0.01, reg_lambda=0, subsample=0.9\n",
      "[CV 5/5; 7/10] END colsample_bytree=1.0, gamma=0.1, learning_rate=0.01, max_depth=4, min_child_weight=3, n_estimators=1000, reg_alpha=0.01, reg_lambda=0, subsample=0.9;, score=-19105281108426.523 total time=   0.8s\n",
      "[CV 1/5; 8/10] START colsample_bytree=1.0, gamma=0, learning_rate=0.1, max_depth=3, min_child_weight=1, n_estimators=1000, reg_alpha=0.1, reg_lambda=0.01, subsample=1.0\n",
      "[CV 1/5; 8/10] END colsample_bytree=1.0, gamma=0, learning_rate=0.1, max_depth=3, min_child_weight=1, n_estimators=1000, reg_alpha=0.1, reg_lambda=0.01, subsample=1.0;, score=-39318762731245.203 total time=   0.5s\n",
      "[CV 2/5; 8/10] START colsample_bytree=1.0, gamma=0, learning_rate=0.1, max_depth=3, min_child_weight=1, n_estimators=1000, reg_alpha=0.1, reg_lambda=0.01, subsample=1.0\n",
      "[CV 2/5; 8/10] END colsample_bytree=1.0, gamma=0, learning_rate=0.1, max_depth=3, min_child_weight=1, n_estimators=1000, reg_alpha=0.1, reg_lambda=0.01, subsample=1.0;, score=-24004097632352.621 total time=   0.7s\n",
      "[CV 3/5; 8/10] START colsample_bytree=1.0, gamma=0, learning_rate=0.1, max_depth=3, min_child_weight=1, n_estimators=1000, reg_alpha=0.1, reg_lambda=0.01, subsample=1.0\n",
      "[CV 3/5; 8/10] END colsample_bytree=1.0, gamma=0, learning_rate=0.1, max_depth=3, min_child_weight=1, n_estimators=1000, reg_alpha=0.1, reg_lambda=0.01, subsample=1.0;, score=-66594091540529.930 total time=   0.6s\n",
      "[CV 4/5; 8/10] START colsample_bytree=1.0, gamma=0, learning_rate=0.1, max_depth=3, min_child_weight=1, n_estimators=1000, reg_alpha=0.1, reg_lambda=0.01, subsample=1.0\n",
      "[CV 4/5; 8/10] END colsample_bytree=1.0, gamma=0, learning_rate=0.1, max_depth=3, min_child_weight=1, n_estimators=1000, reg_alpha=0.1, reg_lambda=0.01, subsample=1.0;, score=-29701830405013.262 total time=   0.7s\n",
      "[CV 5/5; 8/10] START colsample_bytree=1.0, gamma=0, learning_rate=0.1, max_depth=3, min_child_weight=1, n_estimators=1000, reg_alpha=0.1, reg_lambda=0.01, subsample=1.0\n",
      "[CV 5/5; 8/10] END colsample_bytree=1.0, gamma=0, learning_rate=0.1, max_depth=3, min_child_weight=1, n_estimators=1000, reg_alpha=0.1, reg_lambda=0.01, subsample=1.0;, score=-19503839684518.906 total time=   1.4s\n",
      "[CV 1/5; 9/10] START colsample_bytree=0.8, gamma=0, learning_rate=0.1, max_depth=3, min_child_weight=3, n_estimators=1000, reg_alpha=0.1, reg_lambda=0.1, subsample=1.0\n",
      "[CV 1/5; 9/10] END colsample_bytree=0.8, gamma=0, learning_rate=0.1, max_depth=3, min_child_weight=3, n_estimators=1000, reg_alpha=0.1, reg_lambda=0.1, subsample=1.0;, score=-44287821386705.469 total time=   1.0s\n",
      "[CV 2/5; 9/10] START colsample_bytree=0.8, gamma=0, learning_rate=0.1, max_depth=3, min_child_weight=3, n_estimators=1000, reg_alpha=0.1, reg_lambda=0.1, subsample=1.0\n",
      "[CV 2/5; 9/10] END colsample_bytree=0.8, gamma=0, learning_rate=0.1, max_depth=3, min_child_weight=3, n_estimators=1000, reg_alpha=0.1, reg_lambda=0.1, subsample=1.0;, score=-25047228333439.637 total time=   1.0s\n",
      "[CV 3/5; 9/10] START colsample_bytree=0.8, gamma=0, learning_rate=0.1, max_depth=3, min_child_weight=3, n_estimators=1000, reg_alpha=0.1, reg_lambda=0.1, subsample=1.0\n",
      "[CV 3/5; 9/10] END colsample_bytree=0.8, gamma=0, learning_rate=0.1, max_depth=3, min_child_weight=3, n_estimators=1000, reg_alpha=0.1, reg_lambda=0.1, subsample=1.0;, score=-61357052935228.117 total time=   0.9s\n",
      "[CV 4/5; 9/10] START colsample_bytree=0.8, gamma=0, learning_rate=0.1, max_depth=3, min_child_weight=3, n_estimators=1000, reg_alpha=0.1, reg_lambda=0.1, subsample=1.0\n",
      "[CV 4/5; 9/10] END colsample_bytree=0.8, gamma=0, learning_rate=0.1, max_depth=3, min_child_weight=3, n_estimators=1000, reg_alpha=0.1, reg_lambda=0.1, subsample=1.0;, score=-32473817133904.312 total time=   1.0s\n",
      "[CV 5/5; 9/10] START colsample_bytree=0.8, gamma=0, learning_rate=0.1, max_depth=3, min_child_weight=3, n_estimators=1000, reg_alpha=0.1, reg_lambda=0.1, subsample=1.0\n",
      "[CV 5/5; 9/10] END colsample_bytree=0.8, gamma=0, learning_rate=0.1, max_depth=3, min_child_weight=3, n_estimators=1000, reg_alpha=0.1, reg_lambda=0.1, subsample=1.0;, score=-22676404473449.496 total time=   1.0s\n",
      "[CV 1/5; 10/10] START colsample_bytree=0.8, gamma=0.1, learning_rate=0.1, max_depth=3, min_child_weight=1, n_estimators=10000, reg_alpha=0, reg_lambda=0, subsample=0.8\n",
      "[CV 1/5; 10/10] END colsample_bytree=0.8, gamma=0.1, learning_rate=0.1, max_depth=3, min_child_weight=1, n_estimators=10000, reg_alpha=0, reg_lambda=0, subsample=0.8;, score=-52712929430662.562 total time=   7.6s\n",
      "[CV 2/5; 10/10] START colsample_bytree=0.8, gamma=0.1, learning_rate=0.1, max_depth=3, min_child_weight=1, n_estimators=10000, reg_alpha=0, reg_lambda=0, subsample=0.8\n",
      "[CV 2/5; 10/10] END colsample_bytree=0.8, gamma=0.1, learning_rate=0.1, max_depth=3, min_child_weight=1, n_estimators=10000, reg_alpha=0, reg_lambda=0, subsample=0.8;, score=-28241966694427.371 total time=   7.8s\n",
      "[CV 3/5; 10/10] START colsample_bytree=0.8, gamma=0.1, learning_rate=0.1, max_depth=3, min_child_weight=1, n_estimators=10000, reg_alpha=0, reg_lambda=0, subsample=0.8\n",
      "[CV 3/5; 10/10] END colsample_bytree=0.8, gamma=0.1, learning_rate=0.1, max_depth=3, min_child_weight=1, n_estimators=10000, reg_alpha=0, reg_lambda=0, subsample=0.8;, score=-72176770820665.453 total time=   7.2s\n",
      "[CV 4/5; 10/10] START colsample_bytree=0.8, gamma=0.1, learning_rate=0.1, max_depth=3, min_child_weight=1, n_estimators=10000, reg_alpha=0, reg_lambda=0, subsample=0.8\n",
      "[CV 4/5; 10/10] END colsample_bytree=0.8, gamma=0.1, learning_rate=0.1, max_depth=3, min_child_weight=1, n_estimators=10000, reg_alpha=0, reg_lambda=0, subsample=0.8;, score=-47417448335440.461 total time=   7.5s\n",
      "[CV 5/5; 10/10] START colsample_bytree=0.8, gamma=0.1, learning_rate=0.1, max_depth=3, min_child_weight=1, n_estimators=10000, reg_alpha=0, reg_lambda=0, subsample=0.8\n",
      "[CV 5/5; 10/10] END colsample_bytree=0.8, gamma=0.1, learning_rate=0.1, max_depth=3, min_child_weight=1, n_estimators=10000, reg_alpha=0, reg_lambda=0, subsample=0.8;, score=-24795618155203.746 total time=   5.2s\n"
     ]
    },
    {
     "data": {
      "text/plain": [
       "RandomizedSearchCV(cv=5, error_score='raise',\n",
       "                   estimator=XGBRegressor(base_score=None, booster=None,\n",
       "                                          callbacks=None,\n",
       "                                          colsample_bylevel=None,\n",
       "                                          colsample_bynode=None,\n",
       "                                          colsample_bytree=None, device=None,\n",
       "                                          early_stopping_rounds=None,\n",
       "                                          enable_categorical=False,\n",
       "                                          eval_metric=None, feature_types=None,\n",
       "                                          gamma=None, grow_policy=None,\n",
       "                                          importance_type=None,\n",
       "                                          interaction_constraints...\n",
       "                                          random_state=None, ...),\n",
       "                   param_distributions={'colsample_bytree': [0.8, 0.9, 1.0],\n",
       "                                        'gamma': [0, 0.1],\n",
       "                                        'learning_rate': [0.01, 0.1],\n",
       "                                        'max_depth': [3, 4],\n",
       "                                        'min_child_weight': [1, 3],\n",
       "                                        'n_estimators': [1000, 10000, 15000],\n",
       "                                        'reg_alpha': [0, 0.01, 0.1],\n",
       "                                        'reg_lambda': [0, 0.01, 0.1],\n",
       "                                        'subsample': [0.8, 0.9, 1.0]},\n",
       "                   scoring=make_scorer(mean_squared_error, greater_is_better=False),\n",
       "                   verbose=50)"
      ]
     },
     "execution_count": 100,
     "metadata": {},
     "output_type": "execute_result"
    }
   ],
   "source": [
    "grid_serch_xgb.fit(X_train,y_train)"
   ]
  },
  {
   "cell_type": "code",
   "execution_count": 101,
   "id": "c3600b29",
   "metadata": {},
   "outputs": [
    {
     "data": {
      "text/plain": [
       "{'subsample': 0.9,\n",
       " 'reg_lambda': 0,\n",
       " 'reg_alpha': 0.01,\n",
       " 'n_estimators': 1000,\n",
       " 'min_child_weight': 3,\n",
       " 'max_depth': 4,\n",
       " 'learning_rate': 0.01,\n",
       " 'gamma': 0.1,\n",
       " 'colsample_bytree': 1.0}"
      ]
     },
     "execution_count": 101,
     "metadata": {},
     "output_type": "execute_result"
    }
   ],
   "source": [
    "grid_serch_xgb.best_params_"
   ]
  },
  {
   "cell_type": "code",
   "execution_count": 59,
   "id": "4b8e6f3b",
   "metadata": {},
   "outputs": [
    {
     "name": "stdout",
     "output_type": "stream",
     "text": [
      "XGBoost Tuned test score:  0.9972199903142375\n",
      "XGBoost Tuned test score:  0.9603053694640229\n"
     ]
    }
   ],
   "source": [
    "xgb2 = XGBRegressor(subsample = 0.8,\n",
    "                    reg_lambda = 0.1,\n",
    "                    reg_alpha = 0.01,\n",
    "                    n_estimators = 10000,\n",
    "                    min_child_weight = 3,\n",
    "                    max_depth = 4,\n",
    "                    learning_rate = 0.01,\n",
    "                    gamma = 1,\n",
    "                    colsample_bytree = 1)\n",
    "xgb2.fit(X_train,y_train)\n",
    "print('XGBoost Tuned test score: ',xgb2.score(X_train, y_train))\n",
    "print('XGBoost Tuned test score: ',xgb2.score(X_test,y_test))"
   ]
  },
  {
   "cell_type": "code",
   "execution_count": 72,
   "id": "14fdac0c",
   "metadata": {
    "scrolled": true
   },
   "outputs": [
    {
     "data": {
      "text/plain": [
       "891"
      ]
     },
     "execution_count": 72,
     "metadata": {},
     "output_type": "execute_result"
    }
   ],
   "source": [
    "pred_xgb = xgb2.predict(X_test)\n",
    "len(pred_xgb)"
   ]
  },
  {
   "cell_type": "code",
   "execution_count": 77,
   "id": "4ebc23e1",
   "metadata": {},
   "outputs": [
    {
     "data": {
      "text/plain": [
       "891"
      ]
     },
     "execution_count": 77,
     "metadata": {},
     "output_type": "execute_result"
    }
   ],
   "source": [
    "len(y_test)"
   ]
  },
  {
   "cell_type": "code",
   "execution_count": 88,
   "id": "793a0907",
   "metadata": {
    "scrolled": true
   },
   "outputs": [],
   "source": [
    "plot_xgb = pd.DataFrame(data= pred_xgb)\n",
    "plot_xgb.columns = ['Predicted']\n",
    "plot_xgb1 = pd.DataFrame(data = y_test)\n",
    "plot_xgb1.columns = ['Actual']"
   ]
  },
  {
   "cell_type": "code",
   "execution_count": 89,
   "id": "98dc624c",
   "metadata": {},
   "outputs": [
    {
     "data": {
      "text/plain": [
       "<Axes: ylabel='Density'>"
      ]
     },
     "execution_count": 89,
     "metadata": {},
     "output_type": "execute_result"
    },
    {
     "data": {
      "image/png": "[encoded data removed]",
      "text/plain": [
       "<Figure size 640x480 with 1 Axes>"
      ]
     },
     "metadata": {},
     "output_type": "display_data"
    }
   ],
   "source": [
    "ax = plot_xgb.plot(kind='kde')\n",
    "plot_xgb1.plot(kind = 'kde',ax = ax)\n",
    "plt.title('XGBoost actual vs predicted')\n",
    "plt.xlabel()"
   ]
  },
  {
   "cell_type": "code",
   "execution_count": 142,
   "id": "c2a942e3",
   "metadata": {},
   "outputs": [
    {
     "ename": "OptionError",
     "evalue": "\"No such keys(s): 'mode.use_inf_as_null'\"",
     "output_type": "error",
     "traceback": [
      "\u001b[1;31m---------------------------------------------------------------------------\u001b[0m",
      "\u001b[1;31mOptionError\u001b[0m                               Traceback (most recent call last)",
      "\u001b[1;32m~\\AppData\\Local\\Temp\\ipykernel_23332\\2219487491.py\u001b[0m in \u001b[0;36m<module>\u001b[1;34m\u001b[0m\n\u001b[0;32m      3\u001b[0m \u001b[0mplt\u001b[0m\u001b[1;33m.\u001b[0m\u001b[0mfigure\u001b[0m\u001b[1;33m(\u001b[0m\u001b[0mfigsize\u001b[0m\u001b[1;33m=\u001b[0m\u001b[1;33m(\u001b[0m\u001b[1;36m10\u001b[0m\u001b[1;33m,\u001b[0m\u001b[1;36m6\u001b[0m\u001b[1;33m)\u001b[0m\u001b[1;33m)\u001b[0m\u001b[1;33m\u001b[0m\u001b[1;33m\u001b[0m\u001b[0m\n\u001b[0;32m      4\u001b[0m \u001b[1;31m#ax = sns.distplot(y_test, hist=False, label='Acutal Set')\u001b[0m\u001b[1;33m\u001b[0m\u001b[1;33m\u001b[0m\u001b[0m\n\u001b[1;32m----> 5\u001b[1;33m \u001b[0msns\u001b[0m\u001b[1;33m.\u001b[0m\u001b[0mkdeplot\u001b[0m\u001b[1;33m(\u001b[0m\u001b[0mxgb2\u001b[0m\u001b[1;33m.\u001b[0m\u001b[0mpredict\u001b[0m\u001b[1;33m(\u001b[0m\u001b[0mX_test\u001b[0m\u001b[1;33m)\u001b[0m\u001b[1;33m,\u001b[0m \u001b[0mhist\u001b[0m\u001b[1;33m=\u001b[0m\u001b[1;32mFalse\u001b[0m\u001b[1;33m,\u001b[0m \u001b[0mlabel\u001b[0m\u001b[1;33m=\u001b[0m\u001b[1;34m'Predicted Set'\u001b[0m\u001b[1;33m)\u001b[0m\u001b[1;33m\u001b[0m\u001b[1;33m\u001b[0m\u001b[0m\n\u001b[0m\u001b[0;32m      6\u001b[0m \u001b[0mplt\u001b[0m\u001b[1;33m.\u001b[0m\u001b[0mtitle\u001b[0m\u001b[1;33m(\u001b[0m\u001b[1;34m'Actual vs predicted using XGBoost'\u001b[0m\u001b[1;33m)\u001b[0m\u001b[1;33m\u001b[0m\u001b[1;33m\u001b[0m\u001b[0m\n\u001b[0;32m      7\u001b[0m \u001b[0mplt\u001b[0m\u001b[1;33m.\u001b[0m\u001b[0mlegend\u001b[0m\u001b[1;33m(\u001b[0m\u001b[1;33m)\u001b[0m\u001b[1;33m\u001b[0m\u001b[1;33m\u001b[0m\u001b[0m\n",
      "\u001b[1;32m~\\anaconda3\\lib\\site-packages\\seaborn\\_decorators.py\u001b[0m in \u001b[0;36minner_f\u001b[1;34m(*args, **kwargs)\u001b[0m\n\u001b[0;32m     44\u001b[0m             )\n\u001b[0;32m     45\u001b[0m         \u001b[0mkwargs\u001b[0m\u001b[1;33m.\u001b[0m\u001b[0mupdate\u001b[0m\u001b[1;33m(\u001b[0m\u001b[1;33m{\u001b[0m\u001b[0mk\u001b[0m\u001b[1;33m:\u001b[0m \u001b[0marg\u001b[0m \u001b[1;32mfor\u001b[0m \u001b[0mk\u001b[0m\u001b[1;33m,\u001b[0m \u001b[0marg\u001b[0m \u001b[1;32min\u001b[0m \u001b[0mzip\u001b[0m\u001b[1;33m(\u001b[0m\u001b[0msig\u001b[0m\u001b[1;33m.\u001b[0m\u001b[0mparameters\u001b[0m\u001b[1;33m,\u001b[0m \u001b[0margs\u001b[0m\u001b[1;33m)\u001b[0m\u001b[1;33m}\u001b[0m\u001b[1;33m)\u001b[0m\u001b[1;33m\u001b[0m\u001b[1;33m\u001b[0m\u001b[0m\n\u001b[1;32m---> 46\u001b[1;33m         \u001b[1;32mreturn\u001b[0m \u001b[0mf\u001b[0m\u001b[1;33m(\u001b[0m\u001b[1;33m**\u001b[0m\u001b[0mkwargs\u001b[0m\u001b[1;33m)\u001b[0m\u001b[1;33m\u001b[0m\u001b[1;33m\u001b[0m\u001b[0m\n\u001b[0m\u001b[0;32m     47\u001b[0m     \u001b[1;32mreturn\u001b[0m \u001b[0minner_f\u001b[0m\u001b[1;33m\u001b[0m\u001b[1;33m\u001b[0m\u001b[0m\n\u001b[0;32m     48\u001b[0m \u001b[1;33m\u001b[0m\u001b[0m\n",
      "\u001b[1;32m~\\anaconda3\\lib\\site-packages\\seaborn\\distributions.py\u001b[0m in \u001b[0;36mkdeplot\u001b[1;34m(x, y, shade, vertical, kernel, bw, gridsize, cut, clip, legend, cumulative, shade_lowest, cbar, cbar_ax, cbar_kws, ax, weights, hue, palette, hue_order, hue_norm, multiple, common_norm, common_grid, levels, thresh, bw_method, bw_adjust, log_scale, color, fill, data, data2, warn_singular, **kwargs)\u001b[0m\n\u001b[0;32m   1768\u001b[0m             \u001b[0mplot_kws\u001b[0m\u001b[1;33m[\u001b[0m\u001b[1;34m\"color\"\u001b[0m\u001b[1;33m]\u001b[0m \u001b[1;33m=\u001b[0m \u001b[0mcolor\u001b[0m\u001b[1;33m\u001b[0m\u001b[1;33m\u001b[0m\u001b[0m\n\u001b[0;32m   1769\u001b[0m \u001b[1;33m\u001b[0m\u001b[0m\n\u001b[1;32m-> 1770\u001b[1;33m         p.plot_univariate_density(\n\u001b[0m\u001b[0;32m   1771\u001b[0m             \u001b[0mmultiple\u001b[0m\u001b[1;33m=\u001b[0m\u001b[0mmultiple\u001b[0m\u001b[1;33m,\u001b[0m\u001b[1;33m\u001b[0m\u001b[1;33m\u001b[0m\u001b[0m\n\u001b[0;32m   1772\u001b[0m             \u001b[0mcommon_norm\u001b[0m\u001b[1;33m=\u001b[0m\u001b[0mcommon_norm\u001b[0m\u001b[1;33m,\u001b[0m\u001b[1;33m\u001b[0m\u001b[1;33m\u001b[0m\u001b[0m\n",
      "\u001b[1;32m~\\anaconda3\\lib\\site-packages\\seaborn\\distributions.py\u001b[0m in \u001b[0;36mplot_univariate_density\u001b[1;34m(self, multiple, common_norm, common_grid, warn_singular, fill, legend, estimate_kws, **plot_kws)\u001b[0m\n\u001b[0;32m    926\u001b[0m \u001b[1;33m\u001b[0m\u001b[0m\n\u001b[0;32m    927\u001b[0m         \u001b[1;31m# Do the computation\u001b[0m\u001b[1;33m\u001b[0m\u001b[1;33m\u001b[0m\u001b[0m\n\u001b[1;32m--> 928\u001b[1;33m         densities = self._compute_univariate_density(\n\u001b[0m\u001b[0;32m    929\u001b[0m             \u001b[0mself\u001b[0m\u001b[1;33m.\u001b[0m\u001b[0mdata_variable\u001b[0m\u001b[1;33m,\u001b[0m\u001b[1;33m\u001b[0m\u001b[1;33m\u001b[0m\u001b[0m\n\u001b[0;32m    930\u001b[0m             \u001b[0mcommon_norm\u001b[0m\u001b[1;33m,\u001b[0m\u001b[1;33m\u001b[0m\u001b[1;33m\u001b[0m\u001b[0m\n",
      "\u001b[1;32m~\\anaconda3\\lib\\site-packages\\seaborn\\distributions.py\u001b[0m in \u001b[0;36m_compute_univariate_density\u001b[1;34m(self, data_variable, common_norm, common_grid, estimate_kws, log_scale, warn_singular)\u001b[0m\n\u001b[0;32m    301\u001b[0m         \u001b[0mdensities\u001b[0m \u001b[1;33m=\u001b[0m \u001b[1;33m{\u001b[0m\u001b[1;33m}\u001b[0m\u001b[1;33m\u001b[0m\u001b[1;33m\u001b[0m\u001b[0m\n\u001b[0;32m    302\u001b[0m \u001b[1;33m\u001b[0m\u001b[0m\n\u001b[1;32m--> 303\u001b[1;33m         \u001b[1;32mfor\u001b[0m \u001b[0msub_vars\u001b[0m\u001b[1;33m,\u001b[0m \u001b[0msub_data\u001b[0m \u001b[1;32min\u001b[0m \u001b[0mself\u001b[0m\u001b[1;33m.\u001b[0m\u001b[0miter_data\u001b[0m\u001b[1;33m(\u001b[0m\u001b[1;34m\"hue\"\u001b[0m\u001b[1;33m,\u001b[0m \u001b[0mfrom_comp_data\u001b[0m\u001b[1;33m=\u001b[0m\u001b[1;32mTrue\u001b[0m\u001b[1;33m)\u001b[0m\u001b[1;33m:\u001b[0m\u001b[1;33m\u001b[0m\u001b[1;33m\u001b[0m\u001b[0m\n\u001b[0m\u001b[0;32m    304\u001b[0m \u001b[1;33m\u001b[0m\u001b[0m\n\u001b[0;32m    305\u001b[0m             \u001b[1;31m# Extract the data points from this sub set and remove nulls\u001b[0m\u001b[1;33m\u001b[0m\u001b[1;33m\u001b[0m\u001b[0m\n",
      "\u001b[1;32m~\\anaconda3\\lib\\site-packages\\seaborn\\_core.py\u001b[0m in \u001b[0;36miter_data\u001b[1;34m(self, grouping_vars, reverse, from_comp_data)\u001b[0m\n\u001b[0;32m    981\u001b[0m \u001b[1;33m\u001b[0m\u001b[0m\n\u001b[0;32m    982\u001b[0m         \u001b[1;32mif\u001b[0m \u001b[0mfrom_comp_data\u001b[0m\u001b[1;33m:\u001b[0m\u001b[1;33m\u001b[0m\u001b[1;33m\u001b[0m\u001b[0m\n\u001b[1;32m--> 983\u001b[1;33m             \u001b[0mdata\u001b[0m \u001b[1;33m=\u001b[0m \u001b[0mself\u001b[0m\u001b[1;33m.\u001b[0m\u001b[0mcomp_data\u001b[0m\u001b[1;33m\u001b[0m\u001b[1;33m\u001b[0m\u001b[0m\n\u001b[0m\u001b[0;32m    984\u001b[0m         \u001b[1;32melse\u001b[0m\u001b[1;33m:\u001b[0m\u001b[1;33m\u001b[0m\u001b[1;33m\u001b[0m\u001b[0m\n\u001b[0;32m    985\u001b[0m             \u001b[0mdata\u001b[0m \u001b[1;33m=\u001b[0m \u001b[0mself\u001b[0m\u001b[1;33m.\u001b[0m\u001b[0mplot_data\u001b[0m\u001b[1;33m\u001b[0m\u001b[1;33m\u001b[0m\u001b[0m\n",
      "\u001b[1;32m~\\anaconda3\\lib\\site-packages\\seaborn\\_core.py\u001b[0m in \u001b[0;36mcomp_data\u001b[1;34m(self)\u001b[0m\n\u001b[0;32m   1052\u001b[0m                 \u001b[1;31m# Use the converter assigned to the axis to get a float representation\u001b[0m\u001b[1;33m\u001b[0m\u001b[1;33m\u001b[0m\u001b[0m\n\u001b[0;32m   1053\u001b[0m                 \u001b[1;31m# of the data, passing np.nan or pd.NA through (pd.NA becomes np.nan)\u001b[0m\u001b[1;33m\u001b[0m\u001b[1;33m\u001b[0m\u001b[0m\n\u001b[1;32m-> 1054\u001b[1;33m                 \u001b[1;32mwith\u001b[0m \u001b[0mpd\u001b[0m\u001b[1;33m.\u001b[0m\u001b[0moption_context\u001b[0m\u001b[1;33m(\u001b[0m\u001b[1;34m'mode.use_inf_as_null'\u001b[0m\u001b[1;33m,\u001b[0m \u001b[1;32mTrue\u001b[0m\u001b[1;33m)\u001b[0m\u001b[1;33m:\u001b[0m\u001b[1;33m\u001b[0m\u001b[1;33m\u001b[0m\u001b[0m\n\u001b[0m\u001b[0;32m   1055\u001b[0m                     \u001b[0morig\u001b[0m \u001b[1;33m=\u001b[0m \u001b[0mself\u001b[0m\u001b[1;33m.\u001b[0m\u001b[0mplot_data\u001b[0m\u001b[1;33m[\u001b[0m\u001b[0mvar\u001b[0m\u001b[1;33m]\u001b[0m\u001b[1;33m.\u001b[0m\u001b[0mdropna\u001b[0m\u001b[1;33m(\u001b[0m\u001b[1;33m)\u001b[0m\u001b[1;33m\u001b[0m\u001b[1;33m\u001b[0m\u001b[0m\n\u001b[0;32m   1056\u001b[0m                 \u001b[0mcomp_col\u001b[0m \u001b[1;33m=\u001b[0m \u001b[0mpd\u001b[0m\u001b[1;33m.\u001b[0m\u001b[0mSeries\u001b[0m\u001b[1;33m(\u001b[0m\u001b[0mindex\u001b[0m\u001b[1;33m=\u001b[0m\u001b[0morig\u001b[0m\u001b[1;33m.\u001b[0m\u001b[0mindex\u001b[0m\u001b[1;33m,\u001b[0m \u001b[0mdtype\u001b[0m\u001b[1;33m=\u001b[0m\u001b[0mfloat\u001b[0m\u001b[1;33m,\u001b[0m \u001b[0mname\u001b[0m\u001b[1;33m=\u001b[0m\u001b[0mvar\u001b[0m\u001b[1;33m)\u001b[0m\u001b[1;33m\u001b[0m\u001b[1;33m\u001b[0m\u001b[0m\n",
      "\u001b[1;32m~\\anaconda3\\lib\\site-packages\\pandas\\_config\\config.py\u001b[0m in \u001b[0;36m__enter__\u001b[1;34m(self)\u001b[0m\n\u001b[0;32m    476\u001b[0m \u001b[1;33m\u001b[0m\u001b[0m\n\u001b[0;32m    477\u001b[0m     \u001b[1;32mdef\u001b[0m \u001b[0m__enter__\u001b[0m\u001b[1;33m(\u001b[0m\u001b[0mself\u001b[0m\u001b[1;33m)\u001b[0m \u001b[1;33m->\u001b[0m \u001b[1;32mNone\u001b[0m\u001b[1;33m:\u001b[0m\u001b[1;33m\u001b[0m\u001b[1;33m\u001b[0m\u001b[0m\n\u001b[1;32m--> 478\u001b[1;33m         \u001b[0mself\u001b[0m\u001b[1;33m.\u001b[0m\u001b[0mundo\u001b[0m \u001b[1;33m=\u001b[0m \u001b[1;33m[\u001b[0m\u001b[1;33m(\u001b[0m\u001b[0mpat\u001b[0m\u001b[1;33m,\u001b[0m \u001b[0m_get_option\u001b[0m\u001b[1;33m(\u001b[0m\u001b[0mpat\u001b[0m\u001b[1;33m)\u001b[0m\u001b[1;33m)\u001b[0m \u001b[1;32mfor\u001b[0m \u001b[0mpat\u001b[0m\u001b[1;33m,\u001b[0m \u001b[0mval\u001b[0m \u001b[1;32min\u001b[0m \u001b[0mself\u001b[0m\u001b[1;33m.\u001b[0m\u001b[0mops\u001b[0m\u001b[1;33m]\u001b[0m\u001b[1;33m\u001b[0m\u001b[1;33m\u001b[0m\u001b[0m\n\u001b[0m\u001b[0;32m    479\u001b[0m \u001b[1;33m\u001b[0m\u001b[0m\n\u001b[0;32m    480\u001b[0m         \u001b[1;32mfor\u001b[0m \u001b[0mpat\u001b[0m\u001b[1;33m,\u001b[0m \u001b[0mval\u001b[0m \u001b[1;32min\u001b[0m \u001b[0mself\u001b[0m\u001b[1;33m.\u001b[0m\u001b[0mops\u001b[0m\u001b[1;33m:\u001b[0m\u001b[1;33m\u001b[0m\u001b[1;33m\u001b[0m\u001b[0m\n",
      "\u001b[1;32m~\\anaconda3\\lib\\site-packages\\pandas\\_config\\config.py\u001b[0m in \u001b[0;36m<listcomp>\u001b[1;34m(.0)\u001b[0m\n\u001b[0;32m    476\u001b[0m \u001b[1;33m\u001b[0m\u001b[0m\n\u001b[0;32m    477\u001b[0m     \u001b[1;32mdef\u001b[0m \u001b[0m__enter__\u001b[0m\u001b[1;33m(\u001b[0m\u001b[0mself\u001b[0m\u001b[1;33m)\u001b[0m \u001b[1;33m->\u001b[0m \u001b[1;32mNone\u001b[0m\u001b[1;33m:\u001b[0m\u001b[1;33m\u001b[0m\u001b[1;33m\u001b[0m\u001b[0m\n\u001b[1;32m--> 478\u001b[1;33m         \u001b[0mself\u001b[0m\u001b[1;33m.\u001b[0m\u001b[0mundo\u001b[0m \u001b[1;33m=\u001b[0m \u001b[1;33m[\u001b[0m\u001b[1;33m(\u001b[0m\u001b[0mpat\u001b[0m\u001b[1;33m,\u001b[0m \u001b[0m_get_option\u001b[0m\u001b[1;33m(\u001b[0m\u001b[0mpat\u001b[0m\u001b[1;33m)\u001b[0m\u001b[1;33m)\u001b[0m \u001b[1;32mfor\u001b[0m \u001b[0mpat\u001b[0m\u001b[1;33m,\u001b[0m \u001b[0mval\u001b[0m \u001b[1;32min\u001b[0m \u001b[0mself\u001b[0m\u001b[1;33m.\u001b[0m\u001b[0mops\u001b[0m\u001b[1;33m]\u001b[0m\u001b[1;33m\u001b[0m\u001b[1;33m\u001b[0m\u001b[0m\n\u001b[0m\u001b[0;32m    479\u001b[0m \u001b[1;33m\u001b[0m\u001b[0m\n\u001b[0;32m    480\u001b[0m         \u001b[1;32mfor\u001b[0m \u001b[0mpat\u001b[0m\u001b[1;33m,\u001b[0m \u001b[0mval\u001b[0m \u001b[1;32min\u001b[0m \u001b[0mself\u001b[0m\u001b[1;33m.\u001b[0m\u001b[0mops\u001b[0m\u001b[1;33m:\u001b[0m\u001b[1;33m\u001b[0m\u001b[1;33m\u001b[0m\u001b[0m\n",
      "\u001b[1;32m~\\anaconda3\\lib\\site-packages\\pandas\\_config\\config.py\u001b[0m in \u001b[0;36m_get_option\u001b[1;34m(pat, silent)\u001b[0m\n\u001b[0;32m    144\u001b[0m \u001b[1;33m\u001b[0m\u001b[0m\n\u001b[0;32m    145\u001b[0m \u001b[1;32mdef\u001b[0m \u001b[0m_get_option\u001b[0m\u001b[1;33m(\u001b[0m\u001b[0mpat\u001b[0m\u001b[1;33m:\u001b[0m \u001b[0mstr\u001b[0m\u001b[1;33m,\u001b[0m \u001b[0msilent\u001b[0m\u001b[1;33m:\u001b[0m \u001b[0mbool\u001b[0m \u001b[1;33m=\u001b[0m \u001b[1;32mFalse\u001b[0m\u001b[1;33m)\u001b[0m \u001b[1;33m->\u001b[0m \u001b[0mAny\u001b[0m\u001b[1;33m:\u001b[0m\u001b[1;33m\u001b[0m\u001b[1;33m\u001b[0m\u001b[0m\n\u001b[1;32m--> 146\u001b[1;33m     \u001b[0mkey\u001b[0m \u001b[1;33m=\u001b[0m \u001b[0m_get_single_key\u001b[0m\u001b[1;33m(\u001b[0m\u001b[0mpat\u001b[0m\u001b[1;33m,\u001b[0m \u001b[0msilent\u001b[0m\u001b[1;33m)\u001b[0m\u001b[1;33m\u001b[0m\u001b[1;33m\u001b[0m\u001b[0m\n\u001b[0m\u001b[0;32m    147\u001b[0m \u001b[1;33m\u001b[0m\u001b[0m\n\u001b[0;32m    148\u001b[0m     \u001b[1;31m# walk the nested dict\u001b[0m\u001b[1;33m\u001b[0m\u001b[1;33m\u001b[0m\u001b[0m\n",
      "\u001b[1;32m~\\anaconda3\\lib\\site-packages\\pandas\\_config\\config.py\u001b[0m in \u001b[0;36m_get_single_key\u001b[1;34m(pat, silent)\u001b[0m\n\u001b[0;32m    130\u001b[0m         \u001b[1;32mif\u001b[0m \u001b[1;32mnot\u001b[0m \u001b[0msilent\u001b[0m\u001b[1;33m:\u001b[0m\u001b[1;33m\u001b[0m\u001b[1;33m\u001b[0m\u001b[0m\n\u001b[0;32m    131\u001b[0m             \u001b[0m_warn_if_deprecated\u001b[0m\u001b[1;33m(\u001b[0m\u001b[0mpat\u001b[0m\u001b[1;33m)\u001b[0m\u001b[1;33m\u001b[0m\u001b[1;33m\u001b[0m\u001b[0m\n\u001b[1;32m--> 132\u001b[1;33m         \u001b[1;32mraise\u001b[0m \u001b[0mOptionError\u001b[0m\u001b[1;33m(\u001b[0m\u001b[1;34mf\"No such keys(s): {repr(pat)}\"\u001b[0m\u001b[1;33m)\u001b[0m\u001b[1;33m\u001b[0m\u001b[1;33m\u001b[0m\u001b[0m\n\u001b[0m\u001b[0;32m    133\u001b[0m     \u001b[1;32mif\u001b[0m \u001b[0mlen\u001b[0m\u001b[1;33m(\u001b[0m\u001b[0mkeys\u001b[0m\u001b[1;33m)\u001b[0m \u001b[1;33m>\u001b[0m \u001b[1;36m1\u001b[0m\u001b[1;33m:\u001b[0m\u001b[1;33m\u001b[0m\u001b[1;33m\u001b[0m\u001b[0m\n\u001b[0;32m    134\u001b[0m         \u001b[1;32mraise\u001b[0m \u001b[0mOptionError\u001b[0m\u001b[1;33m(\u001b[0m\u001b[1;34m\"Pattern matched multiple keys\"\u001b[0m\u001b[1;33m)\u001b[0m\u001b[1;33m\u001b[0m\u001b[1;33m\u001b[0m\u001b[0m\n",
      "\u001b[1;31mOptionError\u001b[0m: \"No such keys(s): 'mode.use_inf_as_null'\""
     ]
    },
    {
     "data": {
      "image/png": "[encoded data removed]",
      "text/plain": [
       "<Figure size 1000x600 with 1 Axes>"
      ]
     },
     "metadata": {},
     "output_type": "display_data"
    }
   ],
   "source": [
    "\n",
    "\n",
    "plt.figure(figsize=(10,6))\n",
    "#ax = sns.distplot(y_test, hist=False, label='Acutal Set')\n",
    "sns.kdeplot(xgb2.predict(X_test), hist=False, label='Predicted Set')\n",
    "plt.title('Actual vs predicted using XGBoost')\n",
    "plt.legend()\n",
    "plt.show()"
   ]
  },
  {
   "cell_type": "code",
   "execution_count": 104,
   "id": "1efd1629",
   "metadata": {},
   "outputs": [
    {
     "data": {
      "text/plain": [
       "XGBRegressor(base_score=None, booster=None, callbacks=None,\n",
       "             colsample_bylevel=None, colsample_bynode=None, colsample_bytree=1,\n",
       "             device=None, early_stopping_rounds=None, enable_categorical=False,\n",
       "             eval_metric=None, feature_types=None, gamma=1, grow_policy=None,\n",
       "             importance_type=None, interaction_constraints=None,\n",
       "             learning_rate=0.01, max_bin=None, max_cat_threshold=None,\n",
       "             max_cat_to_onehot=None, max_delta_step=None, max_depth=4,\n",
       "             max_leaves=None, min_child_weight=3, missing=nan,\n",
       "             monotone_constraints=None, multi_strategy=None, n_estimators=10000,\n",
       "             n_jobs=None, num_parallel_tree=None, random_state=None, ...)"
      ]
     },
     "execution_count": 104,
     "metadata": {},
     "output_type": "execute_result"
    }
   ],
   "source": [
    "xgb2.fit(X,y)"
   ]
  },
  {
   "cell_type": "markdown",
   "id": "9c88a0dc",
   "metadata": {},
   "source": [
    "# Predicting for new Data"
   ]
  },
  {
   "cell_type": "code",
   "execution_count": 128,
   "id": "1e5189d7",
   "metadata": {},
   "outputs": [],
   "source": [
    "def predict_price(sqft,weather,buildings):\n",
    "    \n",
    "    x = np.zeros(len(X.columns))\n",
    "    x[0] = (sqft - df['Sq_ft'].mean()) / df['Sq_ft'].std()\n",
    "    x[1] = (weather - df['Weather'].mean()) / df['Weather'].std()\n",
    "    x[2] = (buildings - df['Buildings'].mean()) / df['Buildings'].std()\n",
    "    df_input = pd.DataFrame(data=x.reshape(1,-1),columns=X.columns)\n",
    "    \n",
    "    \n",
    "    return xgb2.predict(df_input)[0]"
   ]
  },
  {
   "cell_type": "code",
   "execution_count": 129,
   "id": "dd24f4b2",
   "metadata": {},
   "outputs": [
    {
     "data": {
      "text/html": [
       "<div>\n",
       "<style scoped>\n",
       "    .dataframe tbody tr th:only-of-type {\n",
       "        vertical-align: middle;\n",
       "    }\n",
       "\n",
       "    .dataframe tbody tr th {\n",
       "        vertical-align: top;\n",
       "    }\n",
       "\n",
       "    .dataframe thead th {\n",
       "        text-align: right;\n",
       "    }\n",
       "</style>\n",
       "<table border=\"1\" class=\"dataframe\">\n",
       "  <thead>\n",
       "    <tr style=\"text-align: right;\">\n",
       "      <th></th>\n",
       "      <th>Sq_ft</th>\n",
       "      <th>Weather</th>\n",
       "      <th>Buildings</th>\n",
       "      <th>Electricity_used</th>\n",
       "    </tr>\n",
       "  </thead>\n",
       "  <tbody>\n",
       "    <tr>\n",
       "      <th>0</th>\n",
       "      <td>0.013964</td>\n",
       "      <td>-0.300106</td>\n",
       "      <td>-0.085603</td>\n",
       "      <td>319864.094506</td>\n",
       "    </tr>\n",
       "    <tr>\n",
       "      <th>1</th>\n",
       "      <td>0.270369</td>\n",
       "      <td>0.215963</td>\n",
       "      <td>-0.085603</td>\n",
       "      <td>121.986307</td>\n",
       "    </tr>\n",
       "    <tr>\n",
       "      <th>2</th>\n",
       "      <td>17.973011</td>\n",
       "      <td>-0.010514</td>\n",
       "      <td>1.110420</td>\n",
       "      <td>0.999888</td>\n",
       "    </tr>\n",
       "    <tr>\n",
       "      <th>3</th>\n",
       "      <td>-0.126683</td>\n",
       "      <td>-0.251841</td>\n",
       "      <td>-0.085603</td>\n",
       "      <td>6027551.000000</td>\n",
       "    </tr>\n",
       "    <tr>\n",
       "      <th>4</th>\n",
       "      <td>0.021006</td>\n",
       "      <td>-0.248128</td>\n",
       "      <td>-0.085603</td>\n",
       "      <td>8184634.000000</td>\n",
       "    </tr>\n",
       "  </tbody>\n",
       "</table>\n",
       "</div>"
      ],
      "text/plain": [
       "      Sq_ft   Weather  Buildings  Electricity_used\n",
       "0  0.013964 -0.300106  -0.085603     319864.094506\n",
       "1  0.270369  0.215963  -0.085603        121.986307\n",
       "2 17.973011 -0.010514   1.110420          0.999888\n",
       "3 -0.126683 -0.251841  -0.085603    6027551.000000\n",
       "4  0.021006 -0.248128  -0.085603    8184634.000000"
      ]
     },
     "execution_count": 129,
     "metadata": {},
     "output_type": "execute_result"
    }
   ],
   "source": [
    "df.head()"
   ]
  },
  {
   "cell_type": "code",
   "execution_count": 130,
   "id": "110d1217",
   "metadata": {},
   "outputs": [
    {
     "data": {
      "text/plain": [
       "533817300.0"
      ]
     },
     "execution_count": 130,
     "metadata": {},
     "output_type": "execute_result"
    }
   ],
   "source": [
    "predict_price(319900,122,1)"
   ]
  },
  {
   "cell_type": "code",
   "execution_count": null,
   "id": "881839c2",
   "metadata": {},
   "outputs": [],
   "source": [
    "predict_price()"
   ]
  }
 ],
 "metadata": {
  "kernelspec": {
   "display_name": "Python 3 (ipykernel)",
   "language": "python",
   "name": "python3"
  },
  "language_info": {
   "codemirror_mode": {
    "name": "ipython",
    "version": 3
   },
   "file_extension": ".py",
   "mimetype": "text/x-python",
   "name": "python",
   "nbconvert_exporter": "python",
   "pygments_lexer": "ipython3",
   "version": "3.9.13"
  }
 },
 "nbformat": 4,
 "nbformat_minor": 5
}
